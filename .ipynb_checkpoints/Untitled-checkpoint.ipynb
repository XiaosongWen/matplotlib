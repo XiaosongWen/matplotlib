{
 "cells": [
  {
   "cell_type": "code",
   "execution_count": 1,
   "metadata": {
    "ExecuteTime": {
     "end_time": "2020-05-18T19:12:55.178750Z",
     "start_time": "2020-05-18T19:12:52.427540Z"
    }
   },
   "outputs": [
    {
     "data": {
      "text/plain": [
       "('3.1.3', '0.10.1')"
      ]
     },
     "execution_count": 1,
     "metadata": {},
     "output_type": "execute_result"
    }
   ],
   "source": [
    "import numpy as np\n",
    "import pandas as pd\n",
    "import matplotlib as mpl\n",
    "import matplotlib.pyplot as plt\n",
    "import seaborn as sns\n",
    "import warnings\n",
    "warnings.filterwarnings(action='ignore')\n",
    "large = 22\n",
    "med = 16\n",
    "small = 12\n",
    "params = {'axes.titlesize': large,\n",
    "          'legend.fontsize': med,\n",
    "          'figure.figsize': (16, 10),\n",
    "          'axes.labelsize': med,\n",
    "          'axes.titlesize': med,\n",
    "          'xtick.labelsize': med,\n",
    "          'ytick.labelsize': med,\n",
    "          'figure.titlesize': large}\n",
    "plt.rcParams.update(params)\n",
    "plt.style.use('seaborn-whitegrid')\n",
    "sns.set_style(\"white\")\n",
    "%matplotlib inline\n",
    "mpl.__version__, sns.__version__"
   ]
  },
  {
   "cell_type": "markdown",
   "metadata": {},
   "source": [
    "# Correlation\n",
    "## Scatter Plot"
   ]
  },
  {
   "cell_type": "code",
   "execution_count": null,
   "metadata": {
    "ExecuteTime": {
     "end_time": "2020-05-18T17:48:52.825408Z",
     "start_time": "2020-05-18T17:48:47.013916Z"
    }
   },
   "outputs": [],
   "source": [
    "# Import dataset\n",
    "midwest = pd.read_csv(\n",
    "    \"https://raw.githubusercontent.com/selva86/datasets/master/midwest_filter.csv\")\n",
    "# prepar\n",
    "categories = np.unique(midwest.category)\n",
    "colors = np.array([plt.cm.tab10(i/float(len(categories)-1))\n",
    "                   for i in range(len(categories))])\n",
    "# Draw Plot for Each Category\n",
    "plt.figure(figsize=(16, 10), dpi=80, facecolor='w', edgecolor='k')\n",
    "for i, category in enumerate(categories):\n",
    "    plt.scatter('area', 'poptotal',\n",
    "                data=midwest.loc[midwest.category == category, :],\n",
    "                s=40, c=colors[i].reshape(1, -1), label=str(category))\n",
    "# Decorations\n",
    "plt.gca().set(xlim=(0.0, 0.1), ylim=(0, 90000),\n",
    "              xlabel='Area', ylabel='Population')\n",
    "\n",
    "plt.xticks(fontsize=12)\n",
    "plt.yticks(fontsize=12)\n",
    "plt.title(\"Scatterplot of Midwest Area vs Population\", fontsize=22)\n",
    "plt.legend(fontsize=12)\n",
    "plt.show()"
   ]
  },
  {
   "cell_type": "markdown",
   "metadata": {},
   "source": [
    "## Bubble plot with Encircling"
   ]
  },
  {
   "cell_type": "code",
   "execution_count": null,
   "metadata": {
    "ExecuteTime": {
     "end_time": "2020-05-18T17:48:59.991408Z",
     "start_time": "2020-05-18T17:48:52.833410Z"
    },
    "scrolled": false
   },
   "outputs": [],
   "source": [
    "from matplotlib import patches\n",
    "from scipy.spatial import ConvexHull\n",
    "import warnings\n",
    "warnings.simplefilter('ignore')\n",
    "\n",
    "# Step 1: Prepare Data\n",
    "midwest = pd.read_csv(\n",
    "    \"https://raw.githubusercontent.com/selva86/datasets/master/midwest_filter.csv\")\n",
    "\n",
    "# As many colors as there are unique midwest['category']\n",
    "categories = np.unique(midwest['category'])\n",
    "colors = np.array([plt.cm.tab10(i/float(len(categories)-1))\n",
    "                   for i in range(len(categories))])\n",
    "\n",
    "# Step 2: Draw Scatterplot with unique color for each category\n",
    "fig = plt.figure(figsize=(16, 10), dpi=80, facecolor='w', edgecolor='k')\n",
    "\n",
    "for i, category in enumerate(categories):\n",
    "    plt.scatter('area', 'poptotal', data=midwest.loc[midwest.category == category, :], s='dot_size', c=colors[i].reshape(\n",
    "        1, -1), label=str(category), edgecolors='black', linewidths=.5)\n",
    "\n",
    "# Step 3: Encircling\n",
    "# https://stackoverflow.com/questions/44575681/how-do-i-encircle-different-data-sets-in-scatter-plot\n",
    "\n",
    "\n",
    "def encircle(x, y, ax=None, **kw):\n",
    "    if not ax:\n",
    "        ax = plt.gca()\n",
    "    p = np.c_[x, y]\n",
    "    hull = ConvexHull(p)\n",
    "    poly = plt.Polygon(p[hull.vertices, :], **kw)\n",
    "    ax.add_patch(poly)\n",
    "\n",
    "\n",
    "# Select data to be encircled\n",
    "midwest_encircle_data = midwest.loc[midwest.state == 'IN', :]\n",
    "\n",
    "# Draw polygon surrounding vertices\n",
    "encircle(midwest_encircle_data.area, midwest_encircle_data.poptotal,\n",
    "         ec=\"k\", fc=\"gold\", alpha=0.1)\n",
    "encircle(midwest_encircle_data.area, midwest_encircle_data.poptotal,\n",
    "         ec=\"firebrick\", fc=\"none\", linewidth=1.5)\n",
    "\n",
    "# Step 4: Decorations\n",
    "plt.gca().set(xlim=(0.0, 0.1), ylim=(0, 90000),\n",
    "              xlabel='Area', ylabel='Population')\n",
    "\n",
    "plt.xticks(fontsize=12)\n",
    "plt.yticks(fontsize=12)\n",
    "plt.title(\"Bubble Plot with Encircling\", fontsize=22)\n",
    "plt.legend(fontsize=12)\n",
    "plt.show()"
   ]
  },
  {
   "cell_type": "markdown",
   "metadata": {},
   "source": [
    "## Scatterplot with line of best fit"
   ]
  },
  {
   "cell_type": "code",
   "execution_count": null,
   "metadata": {
    "ExecuteTime": {
     "end_time": "2020-05-18T17:49:32.886171Z",
     "start_time": "2020-05-18T17:48:59.995414Z"
    }
   },
   "outputs": [],
   "source": [
    "# Import Data\n",
    "df = pd.read_csv(\n",
    "    \"https://raw.githubusercontent.com/selva86/datasets/master/mpg_ggplot2.csv\")\n",
    "df_select = df.loc[df.cyl.isin([4, 8]), :]\n",
    "\n",
    "# Plot\n",
    "gridobj = sns.lmplot(x=\"displ\", y=\"hwy\", hue=\"cyl\", data=df_select,\n",
    "                     height=7, aspect=1.6, robust=True, palette='tab10',\n",
    "                     scatter_kws=dict(s=60, linewidths=.7, edgecolors='black'))\n",
    "\n",
    "# Decorations\n",
    "gridobj.set(xlim=(0.5, 7.5), ylim=(0, 50))\n",
    "plt.title(\"Scatterplot with line of best fit\", fontsize=20)"
   ]
  },
  {
   "cell_type": "markdown",
   "metadata": {},
   "source": [
    "## Jittering with stripplot"
   ]
  },
  {
   "cell_type": "code",
   "execution_count": null,
   "metadata": {
    "ExecuteTime": {
     "end_time": "2020-05-18T17:50:04.316350Z",
     "start_time": "2020-05-18T17:49:32.891171Z"
    },
    "scrolled": false
   },
   "outputs": [],
   "source": [
    "# Import Data\n",
    "df = pd.read_csv(\"https://raw.githubusercontent.com/selva86/datasets/master/mpg_ggplot2.csv\")\n",
    "df_select = df.loc[df.cyl.isin([4,8]), :]\n",
    "\n",
    "# Each line in its own column\n",
    "gridobj = sns.lmplot(x=\"displ\", y=\"hwy\",\n",
    "                     data=df_select,\n",
    "                     height=7,\n",
    "                     robust=True,\n",
    "                     palette='Set1',\n",
    "                     col=\"cyl\",\n",
    "                     scatter_kws=dict(s=60, linewidths=.7, edgecolors='black'))\n",
    "\n",
    "# Decorations\n",
    "gridobj.set(xlim=(0.5, 7.5), ylim=(0, 50))\n",
    "plt.show()"
   ]
  },
  {
   "cell_type": "markdown",
   "metadata": {},
   "source": [
    "## jittered plots to avoid overlapping of points"
   ]
  },
  {
   "cell_type": "code",
   "execution_count": null,
   "metadata": {
    "ExecuteTime": {
     "end_time": "2020-05-18T17:50:06.165398Z",
     "start_time": "2020-05-18T17:50:04.320994Z"
    }
   },
   "outputs": [],
   "source": [
    "# Import Data\n",
    "df = pd.read_csv(\"https://raw.githubusercontent.com/selva86/datasets/master/mpg_ggplot2.csv\")\n",
    "\n",
    "# Draw Stripplot\n",
    "fig, ax = plt.subplots(figsize=(16, 10), dpi=80)\n",
    "sns.stripplot(df.cty, df.hwy, jitter=0.25, size=8, ax=ax, linewidth=.5)\n",
    "\n",
    "# Decorations\n",
    "plt.title('Use jittered plots to avoid overlapping of points', fontsize=22)\n",
    "plt.show()"
   ]
  },
  {
   "cell_type": "markdown",
   "metadata": {},
   "source": [
    "## Counts Plot"
   ]
  },
  {
   "cell_type": "code",
   "execution_count": null,
   "metadata": {
    "ExecuteTime": {
     "end_time": "2020-05-18T17:50:07.575033Z",
     "start_time": "2020-05-18T17:50:06.173398Z"
    }
   },
   "outputs": [],
   "source": [
    "# Import Data\n",
    "df = pd.read_csv(\"https://raw.githubusercontent.com/selva86/datasets/master/mpg_ggplot2.csv\")\n",
    "df_counts = df.groupby(['hwy', 'cty']).size().reset_index(name='counts')\n",
    "\n",
    "# Draw Stripplot\n",
    "fig, ax = plt.subplots(figsize=(16, 10), dpi=80)\n",
    "sns.stripplot(df_counts.cty, df_counts.hwy, size=df_counts.counts*2, ax=ax)\n",
    "\n",
    "# Decorations\n",
    "plt.title(\n",
    "    'Counts Plot - Size of circle is bigger as more points overlap', fontsize=22)\n",
    "plt.show()"
   ]
  },
  {
   "cell_type": "markdown",
   "metadata": {},
   "source": [
    "## Scatterplot with Histograms on the side"
   ]
  },
  {
   "cell_type": "code",
   "execution_count": null,
   "metadata": {
    "ExecuteTime": {
     "end_time": "2020-05-18T17:50:09.605464Z",
     "start_time": "2020-05-18T17:50:07.581031Z"
    }
   },
   "outputs": [],
   "source": [
    "# Import Data\n",
    "df = pd.read_csv(\"https://raw.githubusercontent.com/selva86/datasets/master/mpg_ggplot2.csv\")\n",
    "\n",
    "# Create Fig and gridspec\n",
    "fig = plt.figure(figsize=(16, 10), dpi=80)\n",
    "grid = plt.GridSpec(4, 4, hspace=0.5, wspace=0.2)\n",
    "\n",
    "# Define the axes\n",
    "ax_main = fig.add_subplot(grid[:-1, :-1])\n",
    "ax_right = fig.add_subplot(grid[:-1, -1], xticklabels=[], yticklabels=[])\n",
    "ax_bottom = fig.add_subplot(grid[-1, 0:-1], xticklabels=[], yticklabels=[])\n",
    "\n",
    "# Scatterplot on main ax\n",
    "ax_main.scatter('displ', 'hwy', s=df.cty*4, c=df.manufacturer.astype('category').cat.codes,\n",
    "                alpha=.9, data=df, cmap=\"tab10\", edgecolors='gray', linewidths=.5)\n",
    "\n",
    "# histogram on the bottom\n",
    "ax_bottom.hist(df.displ, 40, histtype='stepfilled',\n",
    "               orientation='vertical', color='deeppink')\n",
    "ax_bottom.invert_yaxis()\n",
    "\n",
    "# histogram in the right\n",
    "ax_right.hist(df.hwy, 40, histtype='stepfilled',\n",
    "              orientation='horizontal', color='deeppink')\n",
    "\n",
    "# Decorations\n",
    "ax_main.set(title='Scatterplot with Histograms displ vs hwy',\n",
    "            xlabel='displ', ylabel='hwy')\n",
    "ax_main.title.set_fontsize(20)\n",
    "for item in ([ax_main.xaxis.label, ax_main.yaxis.label] + ax_main.get_xticklabels() + ax_main.get_yticklabels()):\n",
    "    item.set_fontsize(14)\n",
    "\n",
    "xlabels = ax_main.get_xticks().tolist()\n",
    "ax_main.set_xticklabels(xlabels)\n",
    "plt.show()"
   ]
  },
  {
   "cell_type": "markdown",
   "metadata": {},
   "source": [
    "## Scatterplot with Boxplot on the side"
   ]
  },
  {
   "cell_type": "code",
   "execution_count": null,
   "metadata": {
    "ExecuteTime": {
     "end_time": "2020-05-18T17:50:11.610496Z",
     "start_time": "2020-05-18T17:50:09.610464Z"
    }
   },
   "outputs": [],
   "source": [
    "# Import Data\n",
    "df = pd.read_csv(\"https://raw.githubusercontent.com/selva86/datasets/master/mpg_ggplot2.csv\")\n",
    "\n",
    "# Create Fig and gridspec\n",
    "fig = plt.figure(figsize=(16, 10), dpi=80)\n",
    "grid = plt.GridSpec(4, 4, hspace=0.5, wspace=0.2)\n",
    "\n",
    "# Define the axes\n",
    "ax_main = fig.add_subplot(grid[:-1, :-1])\n",
    "ax_right = fig.add_subplot(grid[:-1, -1], xticklabels=[], yticklabels=[])\n",
    "ax_bottom = fig.add_subplot(grid[-1, 0:-1], xticklabels=[], yticklabels=[])\n",
    "\n",
    "# Scatterplot on main ax\n",
    "ax_main.scatter('displ', 'hwy', s=df.cty*5, c=df.manufacturer.astype('category').cat.codes,\n",
    "                alpha=.9, data=df, cmap=\"Set1\", edgecolors='black', linewidths=.5)\n",
    "\n",
    "# Add a graph in each part\n",
    "sns.boxplot(df.hwy, ax=ax_right, orient=\"v\")\n",
    "sns.boxplot(df.displ, ax=ax_bottom, orient=\"h\")\n",
    "\n",
    "# Decorations ------------------\n",
    "# Remove x axis name for the boxplot\n",
    "ax_bottom.set(xlabel='')\n",
    "ax_right.set(ylabel='')\n",
    "\n",
    "# Main Title, Xlabel and YLabel\n",
    "ax_main.set(title='Scatterplot with Histograms displ vs hwy',\n",
    "            xlabel='displ', ylabel='hwy')\n",
    "\n",
    "# Set font size of different components\n",
    "ax_main.title.set_fontsize(20)\n",
    "for item in ([ax_main.xaxis.label, ax_main.yaxis.label] + ax_main.get_xticklabels() + ax_main.get_yticklabels()):\n",
    "    item.set_fontsize(14)\n",
    "\n",
    "plt.show()"
   ]
  },
  {
   "cell_type": "markdown",
   "metadata": {},
   "source": [
    "## Correlogram "
   ]
  },
  {
   "cell_type": "code",
   "execution_count": null,
   "metadata": {
    "ExecuteTime": {
     "end_time": "2020-05-18T17:50:13.785792Z",
     "start_time": "2020-05-18T17:50:11.613497Z"
    }
   },
   "outputs": [],
   "source": [
    "# Import Dataset\n",
    "df = pd.read_csv(\"https://github.com/selva86/datasets/raw/master/mtcars.csv\")\n",
    "\n",
    "# Plot\n",
    "plt.figure(figsize=(12, 10), dpi=80)\n",
    "sns.heatmap(df.corr(), xticklabels=df.corr().columns,\n",
    "            yticklabels=df.corr().columns, cmap='RdYlGn', center=0, annot=True)\n",
    "\n",
    "# Decorations\n",
    "plt.title('Correlogram of mtcars', fontsize=22)\n",
    "plt.xticks(fontsize=12)\n",
    "plt.yticks(fontsize=12)\n",
    "plt.show()"
   ]
  },
  {
   "cell_type": "markdown",
   "metadata": {},
   "source": [
    "## pairplot"
   ]
  },
  {
   "cell_type": "code",
   "execution_count": null,
   "metadata": {
    "ExecuteTime": {
     "end_time": "2020-05-18T17:50:27.476560Z",
     "start_time": "2020-05-18T17:50:13.788794Z"
    }
   },
   "outputs": [],
   "source": [
    "# Load Dataset\n",
    "df = sns.load_dataset('iris')\n",
    "\n",
    "# Plot\n",
    "plt.figure(figsize=(10, 8), dpi=80)\n",
    "sns.pairplot(df, kind=\"scatter\", hue=\"species\", plot_kws=dict(\n",
    "    s=80, edgecolor=\"white\", linewidth=2.5))\n",
    "plt.show()"
   ]
  },
  {
   "cell_type": "markdown",
   "metadata": {},
   "source": [
    "## pairplot with linear regression fitted"
   ]
  },
  {
   "cell_type": "code",
   "execution_count": null,
   "metadata": {
    "ExecuteTime": {
     "end_time": "2020-05-18T17:50:47.612434Z",
     "start_time": "2020-05-18T17:50:27.481561Z"
    }
   },
   "outputs": [],
   "source": [
    "# Load Dataset\n",
    "df = sns.load_dataset('iris')\n",
    "\n",
    "# Plot\n",
    "plt.figure(figsize=(10, 8), dpi=80)\n",
    "sns.pairplot(df, kind=\"reg\", hue=\"species\")\n",
    "plt.show()"
   ]
  },
  {
   "cell_type": "markdown",
   "metadata": {
    "ExecuteTime": {
     "end_time": "2020-05-18T15:25:53.732200Z",
     "start_time": "2020-05-18T15:25:53.726200Z"
    }
   },
   "source": [
    "# bias\n",
    "## Diverging Bars"
   ]
  },
  {
   "cell_type": "code",
   "execution_count": null,
   "metadata": {
    "ExecuteTime": {
     "end_time": "2020-05-18T17:50:49.269415Z",
     "start_time": "2020-05-18T17:50:47.614433Z"
    }
   },
   "outputs": [],
   "source": [
    "# Prepare Data\n",
    "df = pd.read_csv(\"https://github.com/selva86/datasets/raw/master/mtcars.csv\")\n",
    "x = df.loc[:, ['mpg']]\n",
    "df['mpg_z'] = (x - x.mean())/x.std()\n",
    "df['colors'] = ['red' if x < 0 else 'green' for x in df['mpg_z']]\n",
    "df.sort_values('mpg_z', inplace=True)\n",
    "df.reset_index(inplace=True)\n",
    "\n",
    "# Draw plot\n",
    "plt.figure(figsize=(14, 10), dpi=80)\n",
    "plt.hlines(y=df.index, xmin=0, xmax=df.mpg_z,\n",
    "           color=df.colors, alpha=0.4, linewidth=5)\n",
    "\n",
    "# Decorations\n",
    "plt.gca().set(ylabel='$Model$', xlabel='$Mileage$')\n",
    "plt.yticks(df.index, df.cars, fontsize=12)\n",
    "plt.title('Diverging Bars of Car Mileage', fontdict={'size': 20})\n",
    "plt.grid(linestyle='--', alpha=0.5)\n",
    "plt.show()"
   ]
  },
  {
   "cell_type": "markdown",
   "metadata": {},
   "source": [
    "##  Diverging Bars  with value"
   ]
  },
  {
   "cell_type": "code",
   "execution_count": null,
   "metadata": {
    "ExecuteTime": {
     "end_time": "2020-05-18T17:50:50.297665Z",
     "start_time": "2020-05-18T17:50:49.271413Z"
    }
   },
   "outputs": [],
   "source": [
    "# Prepare Data\n",
    "df = pd.read_csv(\"https://github.com/selva86/datasets/raw/master/mtcars.csv\")\n",
    "x = df.loc[:, ['mpg']]\n",
    "df['mpg_z'] = (x - x.mean())/x.std()\n",
    "df['colors'] = ['red' if x < 0 else 'green' for x in df['mpg_z']]\n",
    "df.sort_values('mpg_z', inplace=True)\n",
    "df.reset_index(inplace=True)\n",
    "\n",
    "# Draw plot\n",
    "plt.figure(figsize=(14,14), dpi= 80)\n",
    "plt.hlines(y=df.index, xmin=0, xmax=df.mpg_z)\n",
    "for x, y, tex in zip(df.mpg_z, df.index, df.mpg_z):\n",
    "    t = plt.text(x, y, round(tex, 2), horizontalalignment='right' if x < 0 else 'left', \n",
    "                 verticalalignment='center', fontdict={'color':'red' if x < 0 else 'green', 'size':14})\n",
    "\n",
    "# Decorations    \n",
    "plt.yticks(df.index, df.cars, fontsize=12)\n",
    "plt.title('Diverging Text Bars of Car Mileage', fontdict={'size':20})\n",
    "plt.grid(linestyle='--', alpha=0.5)\n",
    "plt.xlim(-2.5, 2.5)\n",
    "plt.show()"
   ]
  },
  {
   "cell_type": "markdown",
   "metadata": {},
   "source": [
    "## Diverging Scatterplot with value"
   ]
  },
  {
   "cell_type": "code",
   "execution_count": null,
   "metadata": {
    "ExecuteTime": {
     "end_time": "2020-05-18T17:50:51.734365Z",
     "start_time": "2020-05-18T17:50:50.300665Z"
    }
   },
   "outputs": [],
   "source": [
    "# Prepare Data\n",
    "df = pd.read_csv(\"https://github.com/selva86/datasets/raw/master/mtcars.csv\")\n",
    "x = df.loc[:, ['mpg']]\n",
    "df['mpg_z'] = (x - x.mean())/x.std()\n",
    "df['colors'] = ['red' if x < 0 else 'darkgreen' for x in df['mpg_z']]\n",
    "df.sort_values('mpg_z', inplace=True)\n",
    "df.reset_index(inplace=True)\n",
    "\n",
    "# Draw plot\n",
    "plt.figure(figsize=(14,16), dpi= 80)\n",
    "plt.scatter(df.mpg_z, df.index, s=450, alpha=.6, color=df.colors)\n",
    "for x, y, tex in zip(df.mpg_z, df.index, df.mpg_z):\n",
    "    t = plt.text(x, y, round(tex, 1), horizontalalignment='center', \n",
    "                 verticalalignment='center', fontdict={'color':'white'})\n",
    "\n",
    "# Decorations\n",
    "# Lighten borders\n",
    "plt.gca().spines[\"top\"].set_alpha(.3)\n",
    "plt.gca().spines[\"bottom\"].set_alpha(.3)\n",
    "plt.gca().spines[\"right\"].set_alpha(.3)\n",
    "plt.gca().spines[\"left\"].set_alpha(.3)\n",
    "\n",
    "plt.yticks(df.index, df.cars)\n",
    "plt.title('Diverging Dotplot of Car Mileage', fontdict={'size':20})\n",
    "plt.xlabel('$Mileage$')\n",
    "plt.grid(linestyle='--', alpha=0.5)\n",
    "plt.xlim(-2.5, 2.5)\n",
    "plt.show()"
   ]
  },
  {
   "cell_type": "markdown",
   "metadata": {},
   "source": [
    "## Diverging \"lollipop\" with annotate"
   ]
  },
  {
   "cell_type": "code",
   "execution_count": null,
   "metadata": {
    "ExecuteTime": {
     "end_time": "2020-05-18T17:50:53.109511Z",
     "start_time": "2020-05-18T17:50:51.738364Z"
    }
   },
   "outputs": [],
   "source": [
    "# Prepare Data\n",
    "df = pd.read_csv(\"https://github.com/selva86/datasets/raw/master/mtcars.csv\")\n",
    "x = df.loc[:, ['mpg']]\n",
    "df['mpg_z'] = (x - x.mean())/x.std()\n",
    "df['colors'] = 'black'\n",
    "\n",
    "# color fiat differently\n",
    "df.loc[df.cars == 'Fiat X1-9', 'colors'] = 'darkorange'\n",
    "df.sort_values('mpg_z', inplace=True)\n",
    "df.reset_index(inplace=True)\n",
    "\n",
    "\n",
    "# Draw plot\n",
    "import matplotlib.patches as patches\n",
    "\n",
    "plt.figure(figsize=(14,16), dpi= 80)\n",
    "plt.hlines(y=df.index, xmin=0, xmax=df.mpg_z, color=df.colors, alpha=0.4, linewidth=1)\n",
    "plt.scatter(df.mpg_z, df.index, color=df.colors, s=[600 if x == 'Fiat X1-9' else 300 for x in df.cars], alpha=0.6)\n",
    "plt.yticks(df.index, df.cars)\n",
    "plt.xticks(fontsize=12)\n",
    "\n",
    "# Annotate\n",
    "plt.annotate('Mercedes Models', xy=(0.0, 11.0), xytext=(1.0, 11), xycoords='data', \n",
    "            fontsize=15, ha='center', va='center',\n",
    "            bbox=dict(boxstyle='square', fc='firebrick'),\n",
    "            arrowprops=dict(arrowstyle='-[, widthB=2.0, lengthB=1.5', lw=2.0, color='steelblue'), color='white')\n",
    "\n",
    "# Add Patches\n",
    "p1 = patches.Rectangle((-2.0, -1), width=.3, height=3, alpha=.2, facecolor='red')\n",
    "p2 = patches.Rectangle((1.5, 27), width=.8, height=5, alpha=.2, facecolor='green')\n",
    "plt.gca().add_patch(p1)\n",
    "plt.gca().add_patch(p2)\n",
    "\n",
    "# Decorate\n",
    "plt.title('Diverging Bars of Car Mileage', fontdict={'size':20})\n",
    "plt.grid(linestyle='--', alpha=0.5)\n",
    "plt.show()"
   ]
  },
  {
   "cell_type": "markdown",
   "metadata": {},
   "source": [
    "## area"
   ]
  },
  {
   "cell_type": "code",
   "execution_count": null,
   "metadata": {
    "ExecuteTime": {
     "end_time": "2020-05-18T17:50:54.513770Z",
     "start_time": "2020-05-18T17:50:53.113585Z"
    }
   },
   "outputs": [],
   "source": [
    "import numpy as np\n",
    "import pandas as pd\n",
    "\n",
    "# Prepare Data\n",
    "df = pd.read_csv(\"https://github.com/selva86/datasets/raw/master/economics.csv\", parse_dates=['date']).head(100)\n",
    "x = np.arange(df.shape[0])\n",
    "y_returns = (df.psavert.diff().fillna(0)/df.psavert.shift(1)).fillna(0) * 100\n",
    "\n",
    "# Plot\n",
    "plt.figure(figsize=(16,10), dpi= 80)\n",
    "plt.fill_between(x[1:], y_returns[1:], 0, where=y_returns[1:] >= 0, facecolor='green', interpolate=True, alpha=0.7)\n",
    "plt.fill_between(x[1:], y_returns[1:], 0, where=y_returns[1:] <= 0, facecolor='red', interpolate=True, alpha=0.7)\n",
    "\n",
    "# Annotate\n",
    "plt.annotate('Peak 1975', xy=(94.0, 21.0), xytext=(88.0, 28),\n",
    "             bbox=dict(boxstyle='square', fc='firebrick'),\n",
    "             arrowprops=dict(facecolor='steelblue', shrink=0.05), fontsize=15, color='white')\n",
    "\n",
    "\n",
    "# Decorations\n",
    "xtickvals = [str(m)[:3].upper()+\"-\"+str(y) for y,m in zip(df.date.dt.year, df.date.dt.month_name())]\n",
    "plt.gca().set_xticks(x[::6])\n",
    "plt.gca().set_xticklabels(xtickvals[::6], rotation=90, fontdict={'horizontalalignment': 'center', 'verticalalignment': 'center_baseline'})\n",
    "plt.ylim(-35,35)\n",
    "plt.xlim(1,100)\n",
    "plt.title(\"Month Economics Return %\", fontsize=22)\n",
    "plt.ylabel('Monthly returns %')\n",
    "plt.grid(alpha=0.5)\n",
    "plt.show()"
   ]
  },
  {
   "cell_type": "markdown",
   "metadata": {},
   "source": [
    "# Ranking\n",
    "## Ordered Bar"
   ]
  },
  {
   "cell_type": "code",
   "execution_count": null,
   "metadata": {
    "ExecuteTime": {
     "end_time": "2020-05-18T17:50:55.807775Z",
     "start_time": "2020-05-18T17:50:54.517772Z"
    }
   },
   "outputs": [],
   "source": [
    "# Prepare Data\n",
    "df_raw = pd.read_csv(\"https://github.com/selva86/datasets/raw/master/mpg_ggplot2.csv\")\n",
    "df = df_raw[['cty', 'manufacturer']].groupby('manufacturer').apply(lambda x: x.mean())\n",
    "df.sort_values('cty', inplace=True)\n",
    "df.reset_index(inplace=True)\n",
    "\n",
    "# Draw plot\n",
    "import matplotlib.patches as patches\n",
    "\n",
    "fig, ax = plt.subplots(figsize=(16,10), facecolor='white', dpi= 80)\n",
    "ax.vlines(x=df.index, ymin=0, ymax=df.cty, color='firebrick', alpha=0.7, linewidth=20)\n",
    "\n",
    "# Annotate Text\n",
    "for i, cty in enumerate(df.cty):\n",
    "    ax.text(i, cty+0.5, round(cty, 1), horizontalalignment='center')\n",
    "\n",
    "\n",
    "# Title, Label, Ticks and Ylim\n",
    "ax.set_title('Bar Chart for Highway Mileage', fontdict={'size':22})\n",
    "ax.set(ylabel='Miles Per Gallon', ylim=(0, 30))\n",
    "plt.xticks(df.index, df.manufacturer.str.upper(), rotation=60, horizontalalignment='right', fontsize=12)\n",
    "\n",
    "# Add patches to color the X axis labels\n",
    "p1 = patches.Rectangle((.57, -0.005), width=.33, height=.13, alpha=.1, facecolor='green', transform=fig.transFigure)\n",
    "p2 = patches.Rectangle((.124, -0.005), width=.446, height=.13, alpha=.1, facecolor='red', transform=fig.transFigure)\n",
    "fig.add_artist(p1)\n",
    "fig.add_artist(p2)\n",
    "plt.show()"
   ]
  },
  {
   "cell_type": "markdown",
   "metadata": {},
   "source": [
    "## Sorted lollipop"
   ]
  },
  {
   "cell_type": "code",
   "execution_count": null,
   "metadata": {
    "ExecuteTime": {
     "end_time": "2020-05-18T17:50:57.707889Z",
     "start_time": "2020-05-18T17:50:55.810777Z"
    }
   },
   "outputs": [],
   "source": [
    "# Prepare Data\n",
    "df_raw = pd.read_csv(\"https://github.com/selva86/datasets/raw/master/mpg_ggplot2.csv\")\n",
    "df = df_raw[['cty', 'manufacturer']].groupby('manufacturer').apply(lambda x: x.mean())\n",
    "df.sort_values('cty', inplace=True)\n",
    "df.reset_index(inplace=True)\n",
    "\n",
    "# Draw plot\n",
    "fig, ax = plt.subplots(figsize=(16,10), dpi= 80)\n",
    "ax.vlines(x=df.index, ymin=0, ymax=df.cty, color='firebrick', alpha=0.7, linewidth=2)\n",
    "ax.scatter(x=df.index, y=df.cty, s=75, color='firebrick', alpha=0.7)\n",
    "\n",
    "# Title, Label, Ticks and Ylim\n",
    "ax.set_title('Lollipop Chart for Highway Mileage', fontdict={'size':22})\n",
    "ax.set_ylabel('Miles Per Gallon')\n",
    "ax.set_xticks(df.index)\n",
    "ax.set_xticklabels(df.manufacturer.str.upper(), rotation=60, fontdict={'horizontalalignment': 'right', 'size':12})\n",
    "ax.set_ylim(0, 30)\n",
    "\n",
    "# Annotate\n",
    "for row in df.itertuples():\n",
    "    ax.text(row.Index, row.cty+.5, s=round(row.cty, 2), horizontalalignment= 'center', verticalalignment='bottom', fontsize=14)\n",
    "\n",
    "plt.show()"
   ]
  },
  {
   "cell_type": "markdown",
   "metadata": {},
   "source": [
    "## Dot Plot"
   ]
  },
  {
   "cell_type": "code",
   "execution_count": null,
   "metadata": {
    "ExecuteTime": {
     "end_time": "2020-05-18T17:50:58.952649Z",
     "start_time": "2020-05-18T17:50:57.710890Z"
    }
   },
   "outputs": [],
   "source": [
    "# Prepare Data\n",
    "df_raw = pd.read_csv(\"https://github.com/selva86/datasets/raw/master/mpg_ggplot2.csv\")\n",
    "df = df_raw[['cty', 'manufacturer']].groupby('manufacturer').apply(lambda x: x.mean())\n",
    "df.sort_values('cty', inplace=True)\n",
    "df.reset_index(inplace=True)\n",
    "\n",
    "# Draw plot\n",
    "fig, ax = plt.subplots(figsize=(16,10), dpi= 80)\n",
    "ax.hlines(y=df.index, xmin=11, xmax=26, color='gray', alpha=0.7, linewidth=1, linestyles='dashdot')\n",
    "ax.scatter(y=df.index, x=df.cty, s=75, color='firebrick', alpha=0.7)\n",
    "\n",
    "# Title, Label, Ticks and Ylim\n",
    "ax.set_title('Dot Plot for Highway Mileage', fontdict={'size':22})\n",
    "ax.set_xlabel('Miles Per Gallon')\n",
    "ax.set_yticks(df.index)\n",
    "ax.set_yticklabels(df.manufacturer.str.title(), fontdict={'horizontalalignment': 'right'})\n",
    "ax.set_xlim(10, 27)\n",
    "plt.show()"
   ]
  },
  {
   "cell_type": "markdown",
   "metadata": {},
   "source": [
    "## Slopechart"
   ]
  },
  {
   "cell_type": "code",
   "execution_count": null,
   "metadata": {
    "ExecuteTime": {
     "end_time": "2020-05-18T17:51:00.085929Z",
     "start_time": "2020-05-18T17:50:58.954650Z"
    }
   },
   "outputs": [],
   "source": [
    "import matplotlib.lines as mlines\n",
    "# Import Data\n",
    "df = pd.read_csv(\n",
    "    \"https://raw.githubusercontent.com/selva86/datasets/master/gdppercap.csv\")\n",
    "\n",
    "left_label = [str(c) + ', ' + str(round(y))\n",
    "              for c, y in zip(df.continent, df['1952'])]\n",
    "right_label = [str(c) + ', ' + str(round(y))\n",
    "               for c, y in zip(df.continent, df['1957'])]\n",
    "klass = ['red' if (y1-y2) < 0 else 'green' for y1,\n",
    "         y2 in zip(df['1952'], df['1957'])]\n",
    "\n",
    "# draw line\n",
    "# https://stackoverflow.com/questions/36470343/how-to-draw-a-line-with-matplotlib/36479941\n",
    "\n",
    "\n",
    "def newline(p1, p2, color='black'):\n",
    "    ax = plt.gca()\n",
    "    l = mlines.Line2D([p1[0], p2[0]], [p1[1], p2[1]], color='red' if p1[1] -\n",
    "                      p2[1] > 0 else 'green', marker='o', markersize=6)\n",
    "    ax.add_line(l)\n",
    "    return l\n",
    "\n",
    "\n",
    "fig, ax = plt.subplots(1, 1, figsize=(14, 14), dpi=80)\n",
    "\n",
    "# Vertical Lines\n",
    "ax.vlines(x=1, ymin=500, ymax=13000, color='black',\n",
    "          alpha=0.7, linewidth=1, linestyles='dotted')\n",
    "ax.vlines(x=3, ymin=500, ymax=13000, color='black',\n",
    "          alpha=0.7, linewidth=1, linestyles='dotted')\n",
    "\n",
    "# Points\n",
    "ax.scatter(y=df['1952'], x=np.repeat(1, df.shape[0]),\n",
    "           s=10, color='black', alpha=0.7)\n",
    "ax.scatter(y=df['1957'], x=np.repeat(3, df.shape[0]),\n",
    "           s=10, color='black', alpha=0.7)\n",
    "\n",
    "# Line Segmentsand Annotation\n",
    "for p1, p2, c in zip(df['1952'], df['1957'], df['continent']):\n",
    "    newline([1, p1], [3, p2])\n",
    "    ax.text(1-0.05, p1, c + ', ' + str(round(p1)), horizontalalignment='right',\n",
    "            verticalalignment='center', fontdict={'size': 14})\n",
    "    ax.text(3+0.05, p2, c + ', ' + str(round(p2)), horizontalalignment='left',\n",
    "            verticalalignment='center', fontdict={'size': 14})\n",
    "\n",
    "# 'Before' and 'After' Annotations\n",
    "ax.text(1-0.05, 13000, 'BEFORE', horizontalalignment='right',\n",
    "        verticalalignment='center', fontdict={'size': 18, 'weight': 700})\n",
    "ax.text(3+0.05, 13000, 'AFTER', horizontalalignment='left',\n",
    "        verticalalignment='center', fontdict={'size': 18, 'weight': 700})\n",
    "\n",
    "# Decoration\n",
    "ax.set_title(\"Slopechart: Comparing GDP Per Capita between 1952 vs 1957\",\n",
    "             fontdict={'size': 22})\n",
    "ax.set(xlim=(0, 4), ylim=(0, 14000), ylabel='Mean GDP Per Capita')\n",
    "ax.set_xticks([1, 3])\n",
    "ax.set_xticklabels([\"1952\", \"1957\"])\n",
    "plt.yticks(np.arange(500, 13000, 2000), fontsize=12)\n",
    "\n",
    "# Lighten borders\n",
    "plt.gca().spines[\"top\"].set_alpha(.0)\n",
    "plt.gca().spines[\"bottom\"].set_alpha(.0)\n",
    "plt.gca().spines[\"right\"].set_alpha(.0)\n",
    "plt.gca().spines[\"left\"].set_alpha(.0)\n",
    "plt.show()"
   ]
  },
  {
   "cell_type": "markdown",
   "metadata": {},
   "source": [
    "## Dumbbell / DNA plot"
   ]
  },
  {
   "cell_type": "code",
   "execution_count": null,
   "metadata": {
    "ExecuteTime": {
     "end_time": "2020-05-18T17:51:01.366002Z",
     "start_time": "2020-05-18T17:51:00.100933Z"
    },
    "scrolled": false
   },
   "outputs": [],
   "source": [
    "import matplotlib.lines as mlines\n",
    "\n",
    "# Import Data\n",
    "df = pd.read_csv(\"https://raw.githubusercontent.com/selva86/datasets/master/health.csv\")\n",
    "df.sort_values('pct_2014', inplace=True)\n",
    "df.reset_index(inplace=True)\n",
    "\n",
    "# Func to draw line segment\n",
    "def newline(p1, p2, color='black'):\n",
    "    ax = plt.gca()\n",
    "    l = mlines.Line2D([p1[0],p2[0]], [p1[1],p2[1]], color='skyblue')\n",
    "    ax.add_line(l)\n",
    "    return l\n",
    "\n",
    "# Figure and Axes\n",
    "fig, ax = plt.subplots(1,1,figsize=(14,14), facecolor='#f7f7f7', dpi= 80)\n",
    "\n",
    "# Vertical Lines\n",
    "ax.vlines(x=.05, ymin=0, ymax=26, color='black', alpha=1, linewidth=1, linestyles='dotted')\n",
    "ax.vlines(x=.10, ymin=0, ymax=26, color='black', alpha=1, linewidth=1, linestyles='dotted')\n",
    "ax.vlines(x=.15, ymin=0, ymax=26, color='black', alpha=1, linewidth=1, linestyles='dotted')\n",
    "ax.vlines(x=.20, ymin=0, ymax=26, color='black', alpha=1, linewidth=1, linestyles='dotted')\n",
    "\n",
    "# Points\n",
    "ax.scatter(y=df['index'], x=df['pct_2013'], s=50, color='#0e668b', alpha=0.7)\n",
    "ax.scatter(y=df['index'], x=df['pct_2014'], s=50, color='#a3c4dc', alpha=0.7)\n",
    "\n",
    "# Line Segments\n",
    "for i, p1, p2 in zip(df['index'], df['pct_2013'], df['pct_2014']):\n",
    "    newline([p1, i], [p2, i])\n",
    "\n",
    "# Decoration\n",
    "ax.set_facecolor('#f7f7f7')\n",
    "ax.set_title(\"Dumbell Chart: Pct Change - 2013 vs 2014\", fontdict={'size':22})\n",
    "ax.set(xlim=(0,.25), ylim=(-1, 27), ylabel='Mean GDP Per Capita')\n",
    "ax.set_xticks([.05, .1, .15, .20])\n",
    "ax.set_xticklabels(['5%', '15%', '20%', '25%'])\n",
    "ax.set_xticklabels(['5%', '15%', '20%', '25%'])    \n",
    "plt.show()"
   ]
  },
  {
   "cell_type": "markdown",
   "metadata": {},
   "source": [
    "# Distribution\n",
    "\n",
    "## Stacked Histogram for Continues Variable"
   ]
  },
  {
   "cell_type": "code",
   "execution_count": null,
   "metadata": {
    "ExecuteTime": {
     "end_time": "2020-05-18T17:51:03.248514Z",
     "start_time": "2020-05-18T17:51:01.371000Z"
    }
   },
   "outputs": [],
   "source": [
    "# Import Data\n",
    "df = pd.read_csv(\"https://github.com/selva86/datasets/raw/master/mpg_ggplot2.csv\")\n",
    "\n",
    "# Prepare data\n",
    "x_var = 'displ'\n",
    "groupby_var = 'class'\n",
    "df_agg = df.loc[:, [x_var, groupby_var]].groupby(groupby_var)\n",
    "vals = [df[x_var].values.tolist() for i, df in df_agg]\n",
    "\n",
    "# Draw\n",
    "plt.figure(figsize=(16,9), dpi= 80)\n",
    "colors = [plt.cm.Spectral(i/float(len(vals)-1)) for i in range(len(vals))]\n",
    "n, bins, patches = plt.hist(vals, 30, stacked=True, density=False, color=colors[:len(vals)])\n",
    "\n",
    "# Decoration\n",
    "plt.legend({group:col for group, col in zip(np.unique(df[groupby_var]).tolist(), colors[:len(vals)])})\n",
    "plt.title(f\"Stacked Histogram of ${x_var}$ colored by ${groupby_var}$\", fontsize=22)\n",
    "plt.xlabel(x_var)\n",
    "plt.ylabel(\"Frequency\")\n",
    "plt.ylim(0, 25)\n",
    "plt.xticks(ticks=bins[::3], labels=[round(b,1) for b in bins[::3]])\n",
    "plt.show()"
   ]
  },
  {
   "cell_type": "markdown",
   "metadata": {},
   "source": [
    "## Stacked Histogram for Categorical Variable"
   ]
  },
  {
   "cell_type": "code",
   "execution_count": null,
   "metadata": {
    "ExecuteTime": {
     "end_time": "2020-05-18T17:51:05.147501Z",
     "start_time": "2020-05-18T17:51:03.251516Z"
    }
   },
   "outputs": [],
   "source": [
    "# Import Data\n",
    "df = pd.read_csv(\"https://github.com/selva86/datasets/raw/master/mpg_ggplot2.csv\")\n",
    "\n",
    "# Prepare data\n",
    "x_var = 'manufacturer'\n",
    "groupby_var = 'class'\n",
    "df_agg = df.loc[:, [x_var, groupby_var]].groupby(groupby_var)\n",
    "vals = [df[x_var].values.tolist() for i, df in df_agg]\n",
    "\n",
    "# Draw\n",
    "plt.figure(figsize=(16,9), dpi= 80)\n",
    "colors = [plt.cm.Spectral(i/float(len(vals)-1)) for i in range(len(vals))]\n",
    "n, bins, patches = plt.hist(vals, df[x_var].unique().__len__(), stacked=True, density=False, color=colors[:len(vals)])\n",
    "\n",
    "# Decoration\n",
    "plt.legend({group:col for group, col in zip(np.unique(df[groupby_var]).tolist(), colors[:len(vals)])})\n",
    "plt.title(f\"Stacked Histogram of ${x_var}$ colored by ${groupby_var}$\", fontsize=22)\n",
    "plt.xlabel(x_var)\n",
    "plt.ylabel(\"Frequency\")\n",
    "plt.ylim(0, 40)\n",
    "plt.xticks(ticks=bins, labels=np.unique(df[x_var]).tolist(), rotation=90, horizontalalignment='left')\n",
    "plt.show()"
   ]
  },
  {
   "cell_type": "markdown",
   "metadata": {},
   "source": [
    "## Density Plot"
   ]
  },
  {
   "cell_type": "code",
   "execution_count": null,
   "metadata": {
    "ExecuteTime": {
     "end_time": "2020-05-18T17:51:07.560492Z",
     "start_time": "2020-05-18T17:51:05.151500Z"
    }
   },
   "outputs": [],
   "source": [
    "# Import Data\n",
    "df = pd.read_csv(\"https://github.com/selva86/datasets/raw/master/mpg_ggplot2.csv\")\n",
    "\n",
    "# Draw Plot\n",
    "plt.figure(figsize=(16,10), dpi= 80)\n",
    "sns.kdeplot(df.loc[df['cyl'] == 4, \"cty\"], shade=True, color=\"g\", label=\"Cyl=4\", alpha=.7)\n",
    "sns.kdeplot(df.loc[df['cyl'] == 5, \"cty\"], shade=True, color=\"deeppink\", label=\"Cyl=5\", alpha=.7)\n",
    "sns.kdeplot(df.loc[df['cyl'] == 6, \"cty\"], shade=True, color=\"dodgerblue\", label=\"Cyl=6\", alpha=.7)\n",
    "sns.kdeplot(df.loc[df['cyl'] == 8, \"cty\"], shade=True, color=\"orange\", label=\"Cyl=8\", alpha=.7)\n",
    "\n",
    "# Decoration\n",
    "plt.title('Density Plot of City Mileage by n_Cylinders', fontsize=22)\n",
    "plt.legend()"
   ]
  },
  {
   "cell_type": "markdown",
   "metadata": {},
   "source": [
    "## Density Plot + Histogram"
   ]
  },
  {
   "cell_type": "code",
   "execution_count": null,
   "metadata": {
    "ExecuteTime": {
     "end_time": "2020-05-18T17:51:08.926909Z",
     "start_time": "2020-05-18T17:51:07.564494Z"
    }
   },
   "outputs": [],
   "source": [
    "# Import Data\n",
    "df = pd.read_csv(\"https://github.com/selva86/datasets/raw/master/mpg_ggplot2.csv\")\n",
    "\n",
    "# Draw Plot\n",
    "plt.figure(figsize=(13,10), dpi= 80)\n",
    "sns.distplot(df.loc[df['class'] == 'compact', \"cty\"], color=\"dodgerblue\", label=\"Compact\", hist_kws={'alpha':.7}, kde_kws={'linewidth':3})\n",
    "sns.distplot(df.loc[df['class'] == 'suv', \"cty\"], color=\"orange\", label=\"SUV\", hist_kws={'alpha':.7}, kde_kws={'linewidth':3})\n",
    "sns.distplot(df.loc[df['class'] == 'minivan', \"cty\"], color=\"g\", label=\"minivan\", hist_kws={'alpha':.7}, kde_kws={'linewidth':3})\n",
    "plt.ylim(0, 0.35)\n",
    "\n",
    "# Decoration\n",
    "plt.title('Density Plot of City Mileage by Vehicle Type', fontsize=22)\n",
    "plt.legend()\n",
    "plt.show()"
   ]
  },
  {
   "cell_type": "markdown",
   "metadata": {},
   "source": [
    "## Joy Plot"
   ]
  },
  {
   "cell_type": "code",
   "execution_count": null,
   "metadata": {
    "ExecuteTime": {
     "end_time": "2020-05-18T17:51:10.866994Z",
     "start_time": "2020-05-18T17:51:08.929913Z"
    }
   },
   "outputs": [],
   "source": [
    "# Import Data\n",
    "import joypy\n",
    "mpg = pd.read_csv(\"https://github.com/selva86/datasets/raw/master/mpg_ggplot2.csv\")\n",
    "\n",
    "# Draw Plot\n",
    "plt.figure(figsize=(16,10), dpi= 80)\n",
    "fig, axes = joypy.joyplot(mpg, column=['hwy', 'cty'], by=\"class\", ylim='own', figsize=(14,10))\n",
    "\n",
    "# Decoration\n",
    "plt.title('Joy Plot of City and Highway Mileage by Class', fontsize=22)\n",
    "plt.show()"
   ]
  },
  {
   "cell_type": "markdown",
   "metadata": {},
   "source": [
    "## Distributed Dot Plot"
   ]
  },
  {
   "cell_type": "code",
   "execution_count": null,
   "metadata": {
    "ExecuteTime": {
     "end_time": "2020-05-18T17:51:56.380016Z",
     "start_time": "2020-05-18T17:51:54.654165Z"
    }
   },
   "outputs": [],
   "source": [
    "import matplotlib.patches as mpatches\n",
    "\n",
    "# Prepare Data\n",
    "df_raw = pd.read_csv(\"https://github.com/selva86/datasets/raw/master/mpg_ggplot2.csv\")\n",
    "cyl_colors = {4:'tab:red', 5:'tab:green', 6:'tab:blue', 8:'tab:orange'}\n",
    "df_raw['cyl_color'] = df_raw.cyl.map(cyl_colors)\n",
    "\n",
    "# Mean and Median city mileage by make\n",
    "df = df_raw[['cty', 'manufacturer']].groupby('manufacturer').apply(lambda x: x.mean())\n",
    "df.sort_values('cty', ascending=False, inplace=True)\n",
    "df.reset_index(inplace=True)\n",
    "df_median = df_raw[['cty', 'manufacturer']].groupby('manufacturer').apply(lambda x: x.median())\n",
    "\n",
    "# Draw horizontal lines\n",
    "fig, ax = plt.subplots(figsize=(16,10), dpi= 80)\n",
    "ax.hlines(y=df.index, xmin=0, xmax=40, color='gray', alpha=0.5, linewidth=.5, linestyles='dashdot')\n",
    "\n",
    "# Draw the Dots\n",
    "for i, make in enumerate(df.manufacturer):\n",
    "    df_make = df_raw.loc[df_raw.manufacturer==make, :]\n",
    "    ax.scatter(y=list(np.repeat(i, df_make.shape[0])), x='cty', data=df_make, s=75, edgecolors='gray', c='w', alpha=0.5)\n",
    "    ax.scatter(y=i, x='cty', data=df_median.loc[df_median.index==make, :], s=75, c='firebrick')\n",
    "    \n",
    "# Annotate    \n",
    "ax.text(33, 13, \"$red \\; dots \\; are \\; the \\: median$\", fontdict={'size':12}, color='firebrick')\n",
    "\n",
    "# Decorations\n",
    "red_patch = plt.plot([],[], marker=\"o\", ms=10, ls=\"\", mec=None, color='firebrick', label=\"Median\")\n",
    "plt.legend(handles=red_patch)\n",
    "ax.set_title('Distribution of City Mileage by Make', fontdict={'size':22})\n",
    "ax.set_xlabel('Miles Per Gallon (City)', alpha=0.7)\n",
    "ax.set_yticks(df.index)\n",
    "ax.set_yticklabels(df.manufacturer.str.title(), fontdict={'horizontalalignment': 'right'}, alpha=0.7)\n",
    "ax.set_xlim(1, 40)\n",
    "plt.xticks(alpha=0.7)\n",
    "plt.gca().spines[\"top\"].set_visible(False)    \n",
    "plt.gca().spines[\"bottom\"].set_visible(False)    \n",
    "plt.gca().spines[\"right\"].set_visible(False)    \n",
    "plt.gca().spines[\"left\"].set_visible(False)   \n",
    "plt.grid(axis='both', alpha=.4, linewidth=.1)\n",
    "plt.show()"
   ]
  },
  {
   "cell_type": "markdown",
   "metadata": {},
   "source": [
    "## Box plot"
   ]
  },
  {
   "cell_type": "code",
   "execution_count": null,
   "metadata": {
    "ExecuteTime": {
     "end_time": "2020-05-18T17:53:24.940016Z",
     "start_time": "2020-05-18T17:53:23.585656Z"
    }
   },
   "outputs": [],
   "source": [
    "# Import Data\n",
    "df = pd.read_csv(\"https://github.com/selva86/datasets/raw/master/mpg_ggplot2.csv\")\n",
    "\n",
    "# Draw Plot\n",
    "plt.figure(figsize=(13,10), dpi= 80)\n",
    "sns.boxplot(x='class', y='hwy', data=df, notch=False)\n",
    "\n",
    "# Add N Obs inside boxplot (optional)\n",
    "def add_n_obs(df,group_col,y):\n",
    "    medians_dict = {grp[0]:grp[1][y].median() for grp in df.groupby(group_col)}\n",
    "    xticklabels = [x.get_text() for x in plt.gca().get_xticklabels()]\n",
    "    n_obs = df.groupby(group_col)[y].size().values\n",
    "    for (x, xticklabel), n_ob in zip(enumerate(xticklabels), n_obs):\n",
    "        plt.text(x, medians_dict[xticklabel]*1.01, \"#obs : \"+str(n_ob), horizontalalignment='center', fontdict={'size':14}, color='white')\n",
    "\n",
    "add_n_obs(df,group_col='class',y='hwy')    \n",
    "\n",
    "# Decoration\n",
    "plt.title('Box Plot of Highway Mileage by Vehicle Class', fontsize=22)\n",
    "plt.ylim(10, 40)"
   ]
  },
  {
   "cell_type": "markdown",
   "metadata": {},
   "source": [
    "## Dot + Box Plot"
   ]
  },
  {
   "cell_type": "code",
   "execution_count": null,
   "metadata": {
    "ExecuteTime": {
     "end_time": "2020-05-18T17:54:27.524482Z",
     "start_time": "2020-05-18T17:54:25.173723Z"
    }
   },
   "outputs": [],
   "source": [
    "# Import Data\n",
    "df = pd.read_csv(\"https://github.com/selva86/datasets/raw/master/mpg_ggplot2.csv\")\n",
    "\n",
    "# Draw Plot\n",
    "plt.figure(figsize=(13,10), dpi= 80)\n",
    "sns.boxplot(x='class', y='hwy', data=df, hue='cyl')\n",
    "sns.stripplot(x='class', y='hwy', data=df, color='black', size=3, jitter=1)\n",
    "\n",
    "for i in range(len(df['class'].unique())-1):\n",
    "    plt.vlines(i+.5, 10, 45, linestyles='solid', colors='gray', alpha=0.2)\n",
    "\n",
    "# Decoration\n",
    "plt.title('Box Plot of Highway Mileage by Vehicle Class', fontsize=22)\n",
    "plt.legend(title='Cylinders')\n",
    "plt.show()"
   ]
  },
  {
   "cell_type": "markdown",
   "metadata": {},
   "source": [
    "## Violin Plot"
   ]
  },
  {
   "cell_type": "code",
   "execution_count": null,
   "metadata": {
    "ExecuteTime": {
     "end_time": "2020-05-18T17:54:56.654550Z",
     "start_time": "2020-05-18T17:54:55.296129Z"
    }
   },
   "outputs": [],
   "source": [
    "# Import Data\n",
    "df = pd.read_csv(\"https://github.com/selva86/datasets/raw/master/mpg_ggplot2.csv\")\n",
    "\n",
    "# Draw Plot\n",
    "plt.figure(figsize=(13,10), dpi= 80)\n",
    "sns.violinplot(x='class', y='hwy', data=df, scale='width', inner='quartile')\n",
    "\n",
    "# Decoration\n",
    "plt.title('Violin Plot of Highway Mileage by Vehicle Class', fontsize=22)\n",
    "plt.show()"
   ]
  },
  {
   "cell_type": "markdown",
   "metadata": {},
   "source": [
    "## Population Pyramid"
   ]
  },
  {
   "cell_type": "code",
   "execution_count": null,
   "metadata": {
    "ExecuteTime": {
     "end_time": "2020-05-18T17:55:40.195516Z",
     "start_time": "2020-05-18T17:55:24.683215Z"
    }
   },
   "outputs": [],
   "source": [
    "# Read data\n",
    "df = pd.read_csv(\"https://raw.githubusercontent.com/selva86/datasets/master/email_campaign_funnel.csv\")\n",
    "\n",
    "# Draw Plot\n",
    "plt.figure(figsize=(13,10), dpi= 80)\n",
    "group_col = 'Gender'\n",
    "order_of_bars = df.Stage.unique()[::-1]\n",
    "colors = [plt.cm.Spectral(i/float(len(df[group_col].unique())-1)) for i in range(len(df[group_col].unique()))]\n",
    "\n",
    "for c, group in zip(colors, df[group_col].unique()):\n",
    "    sns.barplot(x='Users', y='Stage', data=df.loc[df[group_col]==group, :], order=order_of_bars, color=c, label=group)\n",
    "\n",
    "# Decorations    \n",
    "plt.xlabel(\"$Users$\")\n",
    "plt.ylabel(\"Stage of Purchase\")\n",
    "plt.yticks(fontsize=12)\n",
    "plt.title(\"Population Pyramid of the Marketing Funnel\", fontsize=22)\n",
    "plt.legend()\n",
    "plt.show()"
   ]
  },
  {
   "cell_type": "markdown",
   "metadata": {},
   "source": [
    "## Categorical Plots"
   ]
  },
  {
   "cell_type": "code",
   "execution_count": null,
   "metadata": {
    "ExecuteTime": {
     "end_time": "2020-05-18T18:24:00.025406Z",
     "start_time": "2020-05-18T18:23:52.826234Z"
    }
   },
   "outputs": [],
   "source": [
    "# Load Dataset\n",
    "titanic = sns.load_dataset(\"titanic\")\n",
    "\n",
    "# Plot\n",
    "g = sns.catplot(\"alive\", col=\"deck\", col_wrap=4,\n",
    "                data=titanic[titanic.deck.notnull()],\n",
    "                kind=\"count\", height=3.5, aspect=.8, \n",
    "                palette='tab20')\n",
    "\n",
    "fig.suptitle('sf')\n",
    "plt.show()"
   ]
  },
  {
   "cell_type": "code",
   "execution_count": null,
   "metadata": {
    "ExecuteTime": {
     "end_time": "2020-05-18T18:25:39.911204Z",
     "start_time": "2020-05-18T18:25:37.698658Z"
    }
   },
   "outputs": [],
   "source": [
    "# Load Dataset\n",
    "titanic = sns.load_dataset(\"titanic\")\n",
    "\n",
    "# Plot\n",
    "sns.catplot(x=\"age\", y=\"embark_town\",\n",
    "            hue=\"sex\", col=\"class\",\n",
    "            data=titanic[titanic.embark_town.notnull()],\n",
    "            orient=\"h\", height=5, aspect=1, palette=\"tab10\",\n",
    "            kind=\"violin\", dodge=True, cut=0, bw=.2)"
   ]
  },
  {
   "cell_type": "markdown",
   "metadata": {},
   "source": [
    "# Composition\n",
    "## Waffle Chart"
   ]
  },
  {
   "cell_type": "code",
   "execution_count": null,
   "metadata": {
    "ExecuteTime": {
     "end_time": "2020-05-18T18:26:58.871416Z",
     "start_time": "2020-05-18T18:26:57.074380Z"
    }
   },
   "outputs": [],
   "source": [
    "from pywaffle import Waffle\n",
    "\n",
    "# Import\n",
    "df_raw = pd.read_csv(\"https://github.com/selva86/datasets/raw/master/mpg_ggplot2.csv\")\n",
    "\n",
    "# Prepare Data\n",
    "df = df_raw.groupby('class').size().reset_index(name='counts')\n",
    "n_categories = df.shape[0]\n",
    "colors = [plt.cm.inferno_r(i/float(n_categories)) for i in range(n_categories)]\n",
    "\n",
    "# Draw Plot and Decorate\n",
    "fig = plt.figure(\n",
    "    FigureClass=Waffle,\n",
    "    plots={\n",
    "        '111': {\n",
    "            'values': df['counts'],\n",
    "            'labels': [\"{0} ({1})\".format(n[0], n[1]) for n in df[['class', 'counts']].itertuples()],\n",
    "            'legend': {'loc': 'upper left', 'bbox_to_anchor': (1.05, 1), 'fontsize': 12},\n",
    "            'title': {'label': '# Vehicles by Class', 'loc': 'center', 'fontsize':18}\n",
    "        },\n",
    "    },\n",
    "    rows=7,\n",
    "    colors=colors,\n",
    "    figsize=(16, 9)\n",
    ")"
   ]
  },
  {
   "cell_type": "code",
   "execution_count": null,
   "metadata": {
    "ExecuteTime": {
     "end_time": "2020-05-18T18:29:03.231153Z",
     "start_time": "2020-05-18T18:29:00.891977Z"
    }
   },
   "outputs": [],
   "source": [
    "from pywaffle import Waffle\n",
    "\n",
    "# Import\n",
    "# df_raw = pd.read_csv(\"https://github.com/selva86/datasets/raw/master/mpg_ggplot2.csv\")\n",
    "\n",
    "# Prepare Data\n",
    "# By Class Data\n",
    "df_class = df_raw.groupby('class').size().reset_index(name='counts_class')\n",
    "n_categories = df_class.shape[0]\n",
    "colors_class = [plt.cm.Set3(i/float(n_categories)) for i in range(n_categories)]\n",
    "\n",
    "# By Cylinders Data\n",
    "df_cyl = df_raw.groupby('cyl').size().reset_index(name='counts_cyl')\n",
    "n_categories = df_cyl.shape[0]\n",
    "colors_cyl = [plt.cm.Spectral(i/float(n_categories)) for i in range(n_categories)]\n",
    "\n",
    "# By Make Data\n",
    "df_make = df_raw.groupby('manufacturer').size().reset_index(name='counts_make')\n",
    "n_categories = df_make.shape[0]\n",
    "colors_make = [plt.cm.tab20b(i/float(n_categories)) for i in range(n_categories)]\n",
    "\n",
    "\n",
    "# Draw Plot and Decorate\n",
    "fig = plt.figure(\n",
    "    FigureClass=Waffle,\n",
    "    plots={\n",
    "        '311': {\n",
    "            'values': df_class['counts_class'],\n",
    "            'labels': [\"{1}\".format(n[0], n[1]) for n in df_class[['class', 'counts_class']].itertuples()],\n",
    "            'legend': {'loc': 'upper left', 'bbox_to_anchor': (1.05, 1), 'fontsize': 12, 'title':'Class'},\n",
    "            'title': {'label': '# Vehicles by Class', 'loc': 'center', 'fontsize':18},\n",
    "            'colors': colors_class\n",
    "        },\n",
    "        '312': {\n",
    "            'values': df_cyl['counts_cyl'],\n",
    "            'labels': [\"{1}\".format(n[0], n[1]) for n in df_cyl[['cyl', 'counts_cyl']].itertuples()],\n",
    "            'legend': {'loc': 'upper left', 'bbox_to_anchor': (1.05, 1), 'fontsize': 12, 'title':'Cyl'},\n",
    "            'title': {'label': '# Vehicles by Cyl', 'loc': 'center', 'fontsize':18},\n",
    "            'colors': colors_cyl\n",
    "        },\n",
    "        '313': {\n",
    "            'values': df_make['counts_make'],\n",
    "            'labels': [\"{1}\".format(n[0], n[1]) for n in df_make[['manufacturer', 'counts_make']].itertuples()],\n",
    "            'legend': {'loc': 'upper left', 'bbox_to_anchor': (1.05, 1), 'fontsize': 12, 'title':'Manufacturer'},\n",
    "            'title': {'label': '# Vehicles by Make', 'loc': 'center', 'fontsize':18},\n",
    "            'colors': colors_make\n",
    "        }\n",
    "    },\n",
    "    rows=9,\n",
    "    figsize=(16, 14)\n",
    ")"
   ]
  },
  {
   "cell_type": "markdown",
   "metadata": {},
   "source": [
    "## Pie Chart"
   ]
  },
  {
   "cell_type": "code",
   "execution_count": null,
   "metadata": {
    "ExecuteTime": {
     "end_time": "2020-05-18T18:29:54.350814Z",
     "start_time": "2020-05-18T18:29:51.594963Z"
    },
    "scrolled": false
   },
   "outputs": [],
   "source": [
    "# Import\n",
    "df_raw = pd.read_csv(\"https://github.com/selva86/datasets/raw/master/mpg_ggplot2.csv\")\n",
    "\n",
    "# Prepare Data\n",
    "df = df_raw.groupby('class').size()\n",
    "\n",
    "# Make the plot with pandas\n",
    "df.plot(kind='pie', subplots=True, figsize=(8, 8))\n",
    "plt.title(\"Pie Chart of Vehicle Class - Bad\")\n",
    "plt.ylabel(\"\")\n",
    "plt.show()"
   ]
  },
  {
   "cell_type": "code",
   "execution_count": null,
   "metadata": {
    "ExecuteTime": {
     "end_time": "2020-05-18T18:30:18.885534Z",
     "start_time": "2020-05-18T18:30:17.549645Z"
    }
   },
   "outputs": [],
   "source": [
    "# Import\n",
    "df_raw = pd.read_csv(\"https://github.com/selva86/datasets/raw/master/mpg_ggplot2.csv\")\n",
    "\n",
    "# Prepare Data\n",
    "df = df_raw.groupby('class').size().reset_index(name='counts')\n",
    "\n",
    "# Draw Plot\n",
    "fig, ax = plt.subplots(figsize=(12, 7), subplot_kw=dict(aspect=\"equal\"), dpi= 80)\n",
    "\n",
    "data = df['counts']\n",
    "categories = df['class']\n",
    "explode = [0,0,0,0,0,0.1,0]\n",
    "\n",
    "def func(pct, allvals):\n",
    "    absolute = int(pct/100.*np.sum(allvals))\n",
    "    return \"{:.1f}% ({:d} )\".format(pct, absolute)\n",
    "\n",
    "wedges, texts, autotexts = ax.pie(data, \n",
    "                                  autopct=lambda pct: func(pct, data),\n",
    "                                  textprops=dict(color=\"w\"), \n",
    "                                  colors=plt.cm.Dark2.colors,\n",
    "                                 startangle=140,\n",
    "                                 explode=explode)\n",
    "\n",
    "# Decoration\n",
    "ax.legend(wedges, categories, title=\"Vehicle Class\", loc=\"center left\", bbox_to_anchor=(1, 0, 0.5, 1))\n",
    "plt.setp(autotexts, size=10, weight=700)\n",
    "ax.set_title(\"Class of Vehicles: Pie Chart\")\n",
    "plt.show()"
   ]
  },
  {
   "cell_type": "markdown",
   "metadata": {},
   "source": [
    "## Treemap"
   ]
  },
  {
   "cell_type": "code",
   "execution_count": null,
   "metadata": {
    "ExecuteTime": {
     "end_time": "2020-05-18T18:31:37.641305Z",
     "start_time": "2020-05-18T18:31:35.275802Z"
    }
   },
   "outputs": [],
   "source": [
    "import squarify \n",
    "\n",
    "# Import Data\n",
    "df_raw = pd.read_csv(\"https://github.com/selva86/datasets/raw/master/mpg_ggplot2.csv\")\n",
    "\n",
    "# Prepare Data\n",
    "df = df_raw.groupby('class').size().reset_index(name='counts')\n",
    "labels = df.apply(lambda x: str(x[0]) + \"(\" + str(x[1]) + \")\", axis=1)\n",
    "sizes = df['counts'].values.tolist()\n",
    "colors = [plt.cm.Spectral(i/float(len(labels))) for i in range(len(labels))]\n",
    "\n",
    "# Draw Plot\n",
    "plt.figure(figsize=(12,8), dpi= 80)\n",
    "squarify.plot(sizes=sizes, label=labels, color=colors, alpha=.8)\n",
    "\n",
    "# Decorate\n",
    "plt.title('Treemap of Vechile Class')\n",
    "plt.axis('off')\n",
    "plt.show()"
   ]
  },
  {
   "cell_type": "markdown",
   "metadata": {},
   "source": [
    "## Bar Chart"
   ]
  },
  {
   "cell_type": "code",
   "execution_count": null,
   "metadata": {
    "ExecuteTime": {
     "end_time": "2020-05-18T18:32:05.633120Z",
     "start_time": "2020-05-18T18:32:02.304114Z"
    }
   },
   "outputs": [],
   "source": [
    "import random\n",
    "\n",
    "# Import Data\n",
    "df_raw = pd.read_csv(\"https://github.com/selva86/datasets/raw/master/mpg_ggplot2.csv\")\n",
    "\n",
    "# Prepare Data\n",
    "df = df_raw.groupby('manufacturer').size().reset_index(name='counts')\n",
    "n = df['manufacturer'].unique().__len__()+1\n",
    "all_colors = list(plt.cm.colors.cnames.keys())\n",
    "random.seed(100)\n",
    "c = random.choices(all_colors, k=n)\n",
    "\n",
    "# Plot Bars\n",
    "plt.figure(figsize=(16,10), dpi= 80)\n",
    "plt.bar(df['manufacturer'], df['counts'], color=c, width=.5)\n",
    "for i, val in enumerate(df['counts'].values):\n",
    "    plt.text(i, val, float(val), horizontalalignment='center', verticalalignment='bottom', fontdict={'fontweight':500, 'size':12})\n",
    "\n",
    "# Decoration\n",
    "plt.gca().set_xticklabels(df['manufacturer'], rotation=60, horizontalalignment= 'right')\n",
    "plt.title(\"Number of Vehicles by Manaufacturers\", fontsize=22)\n",
    "plt.ylabel('# Vehicles')\n",
    "plt.ylim(0, 45)\n",
    "plt.show()\n",
    "\n"
   ]
  },
  {
   "cell_type": "markdown",
   "metadata": {},
   "source": [
    "# Change\n",
    "## Time Series Plot"
   ]
  },
  {
   "cell_type": "code",
   "execution_count": null,
   "metadata": {
    "ExecuteTime": {
     "end_time": "2020-05-18T18:35:09.099685Z",
     "start_time": "2020-05-18T18:34:53.892811Z"
    }
   },
   "outputs": [],
   "source": [
    "# Import Data\n",
    "df = pd.read_csv('https://github.com/selva86/datasets/raw/master/AirPassengers.csv')\n",
    "\n",
    "# # Draw Plot\n",
    "plt.figure(figsize=(16,10), dpi= 80)\n",
    "plt.plot('date', 'value', data=df, color='tab:red')\n",
    "\n",
    "# Decoration\n",
    "plt.ylim(50, 750)\n",
    "xtick_location = df.index.tolist()[::12]\n",
    "xtick_labels = [x[-4:] for x in df.date.tolist()[::12]]\n",
    "plt.xticks(ticks=xtick_location, labels=xtick_labels, rotation=0, fontsize=12, horizontalalignment='center', alpha=.7)\n",
    "plt.yticks(fontsize=12, alpha=.7)\n",
    "plt.title(\"Air Passengers Traffic (1949 - 1969)\", fontsize=22)\n",
    "plt.grid(axis='both', alpha=.3)\n",
    "\n",
    "# Remove borders\n",
    "plt.gca().spines[\"top\"].set_alpha(0.0)    \n",
    "plt.gca().spines[\"bottom\"].set_alpha(0.3)\n",
    "plt.gca().spines[\"right\"].set_alpha(0.0)    \n",
    "plt.gca().spines[\"left\"].set_alpha(0.3)   \n",
    "plt.show()"
   ]
  },
  {
   "cell_type": "markdown",
   "metadata": {},
   "source": [
    "## Time Series with Peaks and Troughs Annotated"
   ]
  },
  {
   "cell_type": "code",
   "execution_count": null,
   "metadata": {
    "ExecuteTime": {
     "end_time": "2020-05-18T18:38:42.106336Z",
     "start_time": "2020-05-18T18:38:38.532160Z"
    }
   },
   "outputs": [],
   "source": [
    "# Import Data\n",
    "df = pd.read_csv('https://github.com/selva86/datasets/raw/master/AirPassengers.csv')\n",
    "\n",
    "# Get the Peaks and Troughs\n",
    "data = df['value'].values\n",
    "doublediff = np.diff(np.sign(np.diff(data)))\n",
    "peak_locations = np.where(doublediff == -2)[0] + 1\n",
    "\n",
    "doublediff2 = np.diff(np.sign(np.diff(-1*data)))\n",
    "trough_locations = np.where(doublediff2 == -2)[0] + 1\n",
    "\n",
    "# Draw Plot\n",
    "plt.figure(figsize=(16,10), dpi= 80)\n",
    "plt.plot('date', 'value', data=df, color='tab:blue', label='Air Traffic')\n",
    "plt.scatter(df.date[peak_locations], df.value[peak_locations], marker=mpl.markers.CARETUPBASE, color='tab:green', s=100, label='Peaks')\n",
    "plt.scatter(df.date[trough_locations], df.value[trough_locations], marker=mpl.markers.CARETDOWNBASE, color='tab:red', s=100, label='Troughs')\n",
    "\n",
    "# Annotate\n",
    "for t, p in zip(trough_locations[1::5], peak_locations[::3]):\n",
    "    plt.text(df.date[p], df.value[p]+15, df.date[p], horizontalalignment='center', color='darkgreen')\n",
    "    plt.text(df.date[t], df.value[t]-35, df.date[t], horizontalalignment='center', color='darkred')\n",
    "\n",
    "# Decoration\n",
    "plt.ylim(50,750)\n",
    "xtick_location = df.index.tolist()[::6]\n",
    "xtick_labels = df.date.tolist()[::6]\n",
    "plt.xticks(ticks=xtick_location, labels=xtick_labels, rotation=90, fontsize=12, alpha=.7)\n",
    "plt.title(\"Peak and Troughs of Air Passengers Traffic (1949 - 1969)\", fontsize=22)\n",
    "plt.yticks(fontsize=12, alpha=.7)\n",
    "\n",
    "# Lighten borders\n",
    "plt.gca().spines[\"top\"].set_alpha(.0)\n",
    "plt.gca().spines[\"bottom\"].set_alpha(.3)\n",
    "plt.gca().spines[\"right\"].set_alpha(.0)\n",
    "plt.gca().spines[\"left\"].set_alpha(.3)\n",
    "\n",
    "plt.legend(loc='upper left')\n",
    "plt.grid(axis='y', alpha=.3)\n",
    "plt.show()"
   ]
  },
  {
   "cell_type": "markdown",
   "metadata": {},
   "source": [
    "## Autocorrelation Plot\n",
    "The ACF plot shows the correlation of the time series with its own lags. Each vertical line (on the autocorrelation plot) represents the correlation between the series and its lag starting from lag 0. The blue shaded region in the plot is the significance level. Those lags that lie above the blue line are the significant lags.\n",
    "\n",
    "So how to interpret this?\n",
    "\n",
    "For AirPassengers, we see upto 14 lags have crossed the blue line and so are significant. This means, the Air Passengers traffic seen upto 14 years back has an influence on the traffic seen today.\n",
    "\n",
    "PACF on the other had shows the autocorrelation of any given lag (of time series) against the current series, but with the contributions of the lags-inbetween removed."
   ]
  },
  {
   "cell_type": "code",
   "execution_count": null,
   "metadata": {
    "ExecuteTime": {
     "end_time": "2020-05-18T18:40:21.235665Z",
     "start_time": "2020-05-18T18:40:14.736330Z"
    }
   },
   "outputs": [],
   "source": [
    "from statsmodels.graphics.tsaplots import plot_acf, plot_pacf\n",
    "\n",
    "# Import Data\n",
    "df = pd.read_csv('https://github.com/selva86/datasets/raw/master/AirPassengers.csv')\n",
    "\n",
    "# Draw Plot\n",
    "fig, (ax1, ax2) = plt.subplots(1, 2,figsize=(16,6), dpi= 80)\n",
    "plot_acf(df.value.tolist(), ax=ax1, lags=50)\n",
    "plot_pacf(df.value.tolist(), ax=ax2, lags=20)\n",
    "\n",
    "# Decorate\n",
    "# lighten the borders\n",
    "ax1.spines[\"top\"].set_alpha(.3); ax2.spines[\"top\"].set_alpha(.3)\n",
    "ax1.spines[\"bottom\"].set_alpha(.3); ax2.spines[\"bottom\"].set_alpha(.3)\n",
    "ax1.spines[\"right\"].set_alpha(.3); ax2.spines[\"right\"].set_alpha(.3)\n",
    "ax1.spines[\"left\"].set_alpha(.3); ax2.spines[\"left\"].set_alpha(.3)\n",
    "\n",
    "# font size of tick labels\n",
    "ax1.tick_params(axis='both', labelsize=12)\n",
    "ax2.tick_params(axis='both', labelsize=12)\n",
    "plt.show()"
   ]
  },
  {
   "cell_type": "markdown",
   "metadata": {},
   "source": [
    "## Cross Correlation Plot"
   ]
  },
  {
   "cell_type": "code",
   "execution_count": null,
   "metadata": {
    "ExecuteTime": {
     "end_time": "2020-05-18T18:40:55.377702Z",
     "start_time": "2020-05-18T18:40:36.756193Z"
    }
   },
   "outputs": [],
   "source": [
    "import statsmodels.tsa.stattools as stattools\n",
    "\n",
    "# Import Data\n",
    "df = pd.read_csv('https://github.com/selva86/datasets/raw/master/mortality.csv')\n",
    "x = df['mdeaths']\n",
    "y = df['fdeaths']\n",
    "\n",
    "# Compute Cross Correlations\n",
    "ccs = stattools.ccf(x, y)[:100]\n",
    "nlags = len(ccs)\n",
    "\n",
    "# Compute the Significance level\n",
    "# ref: https://stats.stackexchange.com/questions/3115/cross-correlation-significance-in-r/3128#3128\n",
    "conf_level = 2 / np.sqrt(nlags)\n",
    "\n",
    "# Draw Plot\n",
    "plt.figure(figsize=(12,7), dpi= 80)\n",
    "\n",
    "plt.hlines(0, xmin=0, xmax=100, color='gray')  # 0 axis\n",
    "plt.hlines(conf_level, xmin=0, xmax=100, color='gray')\n",
    "plt.hlines(-conf_level, xmin=0, xmax=100, color='gray')\n",
    "\n",
    "plt.bar(x=np.arange(len(ccs)), height=ccs, width=.3)\n",
    "\n",
    "# Decoration\n",
    "plt.title('$Cross; Correlation; Plot:; mdeaths; vs; fdeaths$', fontsize=22)\n",
    "plt.xlim(0,len(ccs))\n",
    "plt.show()"
   ]
  },
  {
   "cell_type": "markdown",
   "metadata": {},
   "source": [
    "## Time Series Decomposition Plot"
   ]
  },
  {
   "cell_type": "code",
   "execution_count": null,
   "metadata": {
    "ExecuteTime": {
     "end_time": "2020-05-18T18:42:59.001320Z",
     "start_time": "2020-05-18T18:42:55.215685Z"
    }
   },
   "outputs": [],
   "source": [
    "from statsmodels.tsa.seasonal import seasonal_decompose\n",
    "from dateutil.parser import parse\n",
    "\n",
    "# Import Data\n",
    "df = pd.read_csv('https://github.com/selva86/datasets/raw/master/AirPassengers.csv')\n",
    "dates = pd.DatetimeIndex([parse(d).strftime('%Y-%m-01') for d in df['date']])\n",
    "df.set_index(dates, inplace=True)\n",
    "\n",
    "# Decompose \n",
    "result = seasonal_decompose(df['value'], model='multiplicative')\n",
    "\n",
    "# Plot\n",
    "plt.rcParams.update({'figure.figsize': (10,10)})\n",
    "result.plot().suptitle('Time Series Decomposition of Air Passengers')\n",
    "plt.show()"
   ]
  },
  {
   "cell_type": "markdown",
   "metadata": {},
   "source": [
    "## Multiple Time Series"
   ]
  },
  {
   "cell_type": "code",
   "execution_count": null,
   "metadata": {
    "ExecuteTime": {
     "end_time": "2020-05-18T18:42:39.357430Z",
     "start_time": "2020-05-18T18:42:34.995351Z"
    }
   },
   "outputs": [],
   "source": [
    "# Import Data\n",
    "df = pd.read_csv('https://github.com/selva86/datasets/raw/master/mortality.csv')\n",
    "\n",
    "# Define the upper limit, lower limit, interval of Y axis and colors\n",
    "y_LL = 100\n",
    "y_UL = int(df.iloc[:, 1:].max().max()*1.1)\n",
    "y_interval = 400\n",
    "mycolors = ['tab:red', 'tab:blue', 'tab:green', 'tab:orange']    \n",
    "\n",
    "# Draw Plot and Annotate\n",
    "fig, ax = plt.subplots(1,1,figsize=(16, 9), dpi= 80)    \n",
    "\n",
    "columns = df.columns[1:]  \n",
    "for i, column in enumerate(columns):    \n",
    "    plt.plot(df.date.values, df[column].values, lw=1.5, color=mycolors[i])    \n",
    "    plt.text(df.shape[0]+1, df[column].values[-1], column, fontsize=14, color=mycolors[i])\n",
    "\n",
    "# Draw Tick lines  \n",
    "for y in range(y_LL, y_UL, y_interval):    \n",
    "    plt.hlines(y, xmin=0, xmax=71, colors='black', alpha=0.3, linestyles=\"--\", lw=0.5)\n",
    "\n",
    "# Decorations    \n",
    "plt.tick_params(axis=\"both\", which=\"both\", bottom=False, top=False,    \n",
    "                labelbottom=True, left=False, right=False, labelleft=True)        \n",
    "\n",
    "# Lighten borders\n",
    "plt.gca().spines[\"top\"].set_alpha(.3)\n",
    "plt.gca().spines[\"bottom\"].set_alpha(.3)\n",
    "plt.gca().spines[\"right\"].set_alpha(.3)\n",
    "plt.gca().spines[\"left\"].set_alpha(.3)\n",
    "\n",
    "plt.title('Number of Deaths from Lung Diseases in the UK (1974-1979)', fontsize=22)\n",
    "plt.yticks(range(y_LL, y_UL, y_interval), [str(y) for y in range(y_LL, y_UL, y_interval)], fontsize=12)    \n",
    "plt.xticks(range(0, df.shape[0], 12), df.date.values[::12], horizontalalignment='left', fontsize=12)    \n",
    "plt.ylim(y_LL, y_UL)    \n",
    "plt.xlim(-2, 80)    \n",
    "plt.show()"
   ]
  },
  {
   "cell_type": "markdown",
   "metadata": {},
   "source": [
    "## Plotting with different scales using secondary Y axis"
   ]
  },
  {
   "cell_type": "code",
   "execution_count": null,
   "metadata": {
    "ExecuteTime": {
     "end_time": "2020-05-18T18:43:17.379853Z",
     "start_time": "2020-05-18T18:43:14.050623Z"
    }
   },
   "outputs": [],
   "source": [
    "# Import Data\n",
    "df = pd.read_csv(\"https://github.com/selva86/datasets/raw/master/economics.csv\")\n",
    "\n",
    "x = df['date']\n",
    "y1 = df['psavert']\n",
    "y2 = df['unemploy']\n",
    "\n",
    "# Plot Line1 (Left Y Axis)\n",
    "fig, ax1 = plt.subplots(1,1,figsize=(16,9), dpi= 80)\n",
    "ax1.plot(x, y1, color='tab:red')\n",
    "\n",
    "# Plot Line2 (Right Y Axis)\n",
    "ax2 = ax1.twinx()  # instantiate a second axes that shares the same x-axis\n",
    "ax2.plot(x, y2, color='tab:blue')\n",
    "\n",
    "# Decorations\n",
    "# ax1 (left Y axis)\n",
    "ax1.set_xlabel('Year', fontsize=20)\n",
    "ax1.tick_params(axis='x', rotation=0, labelsize=12)\n",
    "ax1.set_ylabel('Personal Savings Rate', color='tab:red', fontsize=20)\n",
    "ax1.tick_params(axis='y', rotation=0, labelcolor='tab:red' )\n",
    "ax1.grid(alpha=.4)\n",
    "\n",
    "# ax2 (right Y axis)\n",
    "ax2.set_ylabel(\"# Unemployed (1000's)\", color='tab:blue', fontsize=20)\n",
    "ax2.tick_params(axis='y', labelcolor='tab:blue')\n",
    "ax2.set_xticks(np.arange(0, len(x), 60))\n",
    "ax2.set_xticklabels(x[::60], rotation=90, fontdict={'fontsize':10})\n",
    "ax2.set_title(\"Personal Savings Rate vs Unemployed: Plotting in Secondary Y Axis\", fontsize=22)\n",
    "fig.tight_layout()\n",
    "plt.show()"
   ]
  },
  {
   "cell_type": "markdown",
   "metadata": {},
   "source": [
    "## Time Series with Error Bands"
   ]
  },
  {
   "cell_type": "code",
   "execution_count": null,
   "metadata": {
    "ExecuteTime": {
     "end_time": "2020-05-18T18:44:47.701595Z",
     "start_time": "2020-05-18T18:44:34.748422Z"
    },
    "scrolled": false
   },
   "outputs": [],
   "source": [
    "from scipy.stats import sem\n",
    "\n",
    "# Import Data\n",
    "df = pd.read_csv(\"https://raw.githubusercontent.com/selva86/datasets/master/user_orders_hourofday.csv\")\n",
    "df_mean = df.groupby('order_hour_of_day').quantity.mean()\n",
    "df_se = df.groupby('order_hour_of_day').quantity.apply(sem).mul(1.96)\n",
    "\n",
    "# Plot\n",
    "plt.figure(figsize=(16,10), dpi= 80)\n",
    "plt.ylabel(\"# Orders\", fontsize=16)  \n",
    "x = df_mean.index\n",
    "plt.plot(x, df_mean, color=\"white\", lw=2) \n",
    "plt.fill_between(x, df_mean - df_se, df_mean + df_se, color=\"#3F5D7D\")  \n",
    "\n",
    "# Decorations\n",
    "# Lighten borders\n",
    "plt.gca().spines[\"top\"].set_alpha(0)\n",
    "plt.gca().spines[\"bottom\"].set_alpha(1)\n",
    "plt.gca().spines[\"right\"].set_alpha(0)\n",
    "plt.gca().spines[\"left\"].set_alpha(1)\n",
    "plt.xticks(x[::2], [str(d) for d in x[::2]] , fontsize=12)\n",
    "plt.title(\"User Orders by Hour of Day (95% confidence)\", fontsize=22)\n",
    "plt.xlabel(\"Hour of Day\")\n",
    "\n",
    "s, e = plt.gca().get_xlim()\n",
    "plt.xlim(s, e)\n",
    "\n",
    "# Draw Horizontal Tick lines  \n",
    "for y in range(8, 20, 2):    \n",
    "    plt.hlines(y, xmin=s, xmax=e, colors='black', alpha=0.5, linestyles=\"--\", lw=0.5)\n",
    "\n",
    "plt.show()"
   ]
  },
  {
   "cell_type": "code",
   "execution_count": null,
   "metadata": {
    "ExecuteTime": {
     "end_time": "2020-05-18T18:45:03.129930Z",
     "start_time": "2020-05-18T18:45:01.350653Z"
    }
   },
   "outputs": [],
   "source": [
    "\"Data Source: https://www.kaggle.com/olistbr/brazilian-ecommerce#olist_orders_dataset.csv\"\n",
    "from dateutil.parser import parse\n",
    "from scipy.stats import sem\n",
    "\n",
    "# Import Data\n",
    "df_raw = pd.read_csv('https://raw.githubusercontent.com/selva86/datasets/master/orders_45d.csv', \n",
    "                     parse_dates=['purchase_time', 'purchase_date'])\n",
    "\n",
    "# Prepare Data: Daily Mean and SE Bands\n",
    "df_mean = df_raw.groupby('purchase_date').quantity.mean()\n",
    "df_se = df_raw.groupby('purchase_date').quantity.apply(sem).mul(1.96)\n",
    "\n",
    "# Plot\n",
    "plt.figure(figsize=(16,10), dpi= 80)\n",
    "plt.ylabel(\"# Daily Orders\", fontsize=16)  \n",
    "x = [d.date().strftime('%Y-%m-%d') for d in df_mean.index]\n",
    "plt.plot(x, df_mean, color=\"white\", lw=2) \n",
    "plt.fill_between(x, df_mean - df_se, df_mean + df_se, color=\"#3F5D7D\")  \n",
    "\n",
    "# Decorations\n",
    "# Lighten borders\n",
    "plt.gca().spines[\"top\"].set_alpha(0)\n",
    "plt.gca().spines[\"bottom\"].set_alpha(1)\n",
    "plt.gca().spines[\"right\"].set_alpha(0)\n",
    "plt.gca().spines[\"left\"].set_alpha(1)\n",
    "plt.xticks(x[::6], [str(d) for d in x[::6]] , fontsize=12)\n",
    "plt.title(\"Daily Order Quantity of Brazilian Retail with Error Bands (95% confidence)\", fontsize=20)\n",
    "\n",
    "# Axis limits\n",
    "s, e = plt.gca().get_xlim()\n",
    "plt.xlim(s, e-2)\n",
    "plt.ylim(4, 10)\n",
    "\n",
    "# Draw Horizontal Tick lines  \n",
    "for y in range(5, 10, 1):    \n",
    "    plt.hlines(y, xmin=s, xmax=e, colors='black', alpha=0.5, linestyles=\"--\", lw=0.5)\n",
    "\n",
    "plt.show()"
   ]
  },
  {
   "cell_type": "markdown",
   "metadata": {},
   "source": [
    "## Stacked Area Chart"
   ]
  },
  {
   "cell_type": "code",
   "execution_count": null,
   "metadata": {
    "ExecuteTime": {
     "end_time": "2020-05-18T18:45:15.463796Z",
     "start_time": "2020-05-18T18:45:13.880608Z"
    }
   },
   "outputs": [],
   "source": [
    "# Import Data\n",
    "df = pd.read_csv('https://raw.githubusercontent.com/selva86/datasets/master/nightvisitors.csv')\n",
    "\n",
    "# Decide Colors \n",
    "mycolors = ['tab:red', 'tab:blue', 'tab:green', 'tab:orange', 'tab:brown', 'tab:grey', 'tab:pink', 'tab:olive']      \n",
    "\n",
    "# Draw Plot and Annotate\n",
    "fig, ax = plt.subplots(1,1,figsize=(16, 9), dpi= 80)\n",
    "columns = df.columns[1:]\n",
    "labs = columns.values.tolist()\n",
    "\n",
    "# Prepare data\n",
    "x  = df['yearmon'].values.tolist()\n",
    "y0 = df[columns[0]].values.tolist()\n",
    "y1 = df[columns[1]].values.tolist()\n",
    "y2 = df[columns[2]].values.tolist()\n",
    "y3 = df[columns[3]].values.tolist()\n",
    "y4 = df[columns[4]].values.tolist()\n",
    "y5 = df[columns[5]].values.tolist()\n",
    "y6 = df[columns[6]].values.tolist()\n",
    "y7 = df[columns[7]].values.tolist()\n",
    "y = np.vstack([y0, y2, y4, y6, y7, y5, y1, y3])\n",
    "\n",
    "# Plot for each column\n",
    "labs = columns.values.tolist()\n",
    "ax = plt.gca()\n",
    "ax.stackplot(x, y, labels=labs, colors=mycolors, alpha=0.8)\n",
    "\n",
    "# Decorations\n",
    "ax.set_title('Night Visitors in Australian Regions', fontsize=18)\n",
    "ax.set(ylim=[0, 100000])\n",
    "ax.legend(fontsize=10, ncol=4)\n",
    "plt.xticks(x[::5], fontsize=10, horizontalalignment='center')\n",
    "plt.yticks(np.arange(10000, 100000, 20000), fontsize=10)\n",
    "plt.xlim(x[0], x[-1])\n",
    "\n",
    "# Lighten borders\n",
    "plt.gca().spines[\"top\"].set_alpha(0)\n",
    "plt.gca().spines[\"bottom\"].set_alpha(.3)\n",
    "plt.gca().spines[\"right\"].set_alpha(0)\n",
    "plt.gca().spines[\"left\"].set_alpha(.3)\n",
    "\n",
    "plt.show()"
   ]
  },
  {
   "cell_type": "markdown",
   "metadata": {},
   "source": [
    "## Area Chart unstacked"
   ]
  },
  {
   "cell_type": "code",
   "execution_count": null,
   "metadata": {
    "ExecuteTime": {
     "end_time": "2020-05-18T18:45:26.856103Z",
     "start_time": "2020-05-18T18:45:24.876495Z"
    }
   },
   "outputs": [],
   "source": [
    "# Import Data\n",
    "df = pd.read_csv(\"https://github.com/selva86/datasets/raw/master/economics.csv\")\n",
    "\n",
    "# Prepare Data\n",
    "x = df['date'].values.tolist()\n",
    "y1 = df['psavert'].values.tolist()\n",
    "y2 = df['uempmed'].values.tolist()\n",
    "mycolors = ['tab:red', 'tab:blue', 'tab:green', 'tab:orange', 'tab:brown', 'tab:grey', 'tab:pink', 'tab:olive']      \n",
    "columns = ['psavert', 'uempmed']\n",
    "\n",
    "# Draw Plot \n",
    "fig, ax = plt.subplots(1, 1, figsize=(16,9), dpi= 80)\n",
    "ax.fill_between(x, y1=y1, y2=0, label=columns[1], alpha=0.5, color=mycolors[1], linewidth=2)\n",
    "ax.fill_between(x, y1=y2, y2=0, label=columns[0], alpha=0.5, color=mycolors[0], linewidth=2)\n",
    "\n",
    "# Decorations\n",
    "ax.set_title('Personal Savings Rate vs Median Duration of Unemployment', fontsize=18)\n",
    "ax.set(ylim=[0, 30])\n",
    "ax.legend(loc='best', fontsize=12)\n",
    "plt.xticks(x[::50], fontsize=10, horizontalalignment='center')\n",
    "plt.yticks(np.arange(2.5, 30.0, 2.5), fontsize=10)\n",
    "plt.xlim(-10, x[-1])\n",
    "\n",
    "# Draw Tick lines  \n",
    "for y in np.arange(2.5, 30.0, 2.5):    \n",
    "    plt.hlines(y, xmin=0, xmax=len(x), colors='black', alpha=0.3, linestyles=\"--\", lw=0.5)\n",
    "\n",
    "# Lighten borders\n",
    "plt.gca().spines[\"top\"].set_alpha(0)\n",
    "plt.gca().spines[\"bottom\"].set_alpha(.3)\n",
    "plt.gca().spines[\"right\"].set_alpha(0)\n",
    "plt.gca().spines[\"left\"].set_alpha(.3)\n",
    "plt.show()"
   ]
  },
  {
   "cell_type": "markdown",
   "metadata": {},
   "source": [
    "## Calendar Heat Map"
   ]
  },
  {
   "cell_type": "code",
   "execution_count": null,
   "metadata": {
    "ExecuteTime": {
     "end_time": "2020-05-18T18:48:20.920407Z",
     "start_time": "2020-05-18T18:48:20.905408Z"
    }
   },
   "outputs": [],
   "source": [
    "df['VIX.Close']"
   ]
  },
  {
   "cell_type": "code",
   "execution_count": 2,
   "metadata": {
    "ExecuteTime": {
     "end_time": "2020-05-18T19:13:06.966052Z",
     "start_time": "2020-05-18T19:13:05.834920Z"
    },
    "scrolled": false
   },
   "outputs": [
    {
     "data": {
      "text/plain": [
       "<Figure size 1280x800 with 0 Axes>"
      ]
     },
     "metadata": {},
     "output_type": "display_data"
    },
    {
     "data": {
      "image/png": "[encoded data removed]",
      "text/plain": [
       "<Figure size 1152x720 with 1 Axes>"
      ]
     },
     "metadata": {
      "needs_background": "light"
     },
     "output_type": "display_data"
    }
   ],
   "source": [
    "import matplotlib as mpl\n",
    "import calmap\n",
    "\n",
    "# Import Data\n",
    "df = pd.read_csv(\"https://raw.githubusercontent.com/selva86/datasets/master/yahoo.csv\", parse_dates=['date'])\n",
    "df.set_index('date', inplace=True)\n",
    "\n",
    "# Plot\n",
    "plt.figure(figsize=(16,10), dpi= 80)\n",
    "calmap.calendarplot(df['2014']['VIX.Close'], fig_kws={'figsize': (16,10)}, yearlabel_kws={'color':'black', 'fontsize':14}, subplot_kws={'title':'Yahoo Stock Prices'})\n",
    "plt.show()"
   ]
  },
  {
   "cell_type": "markdown",
   "metadata": {},
   "source": [
    "## Seasonal Plot"
   ]
  },
  {
   "cell_type": "code",
   "execution_count": 4,
   "metadata": {
    "ExecuteTime": {
     "end_time": "2020-05-18T19:14:04.001799Z",
     "start_time": "2020-05-18T19:14:03.967793Z"
    }
   },
   "outputs": [
    {
     "data": {
      "text/html": [
       "<div>\n",
       "<style scoped>\n",
       "    .dataframe tbody tr th:only-of-type {\n",
       "        vertical-align: middle;\n",
       "    }\n",
       "\n",
       "    .dataframe tbody tr th {\n",
       "        vertical-align: top;\n",
       "    }\n",
       "\n",
       "    .dataframe thead th {\n",
       "        text-align: right;\n",
       "    }\n",
       "</style>\n",
       "<table border=\"1\" class=\"dataframe\">\n",
       "  <thead>\n",
       "    <tr style=\"text-align: right;\">\n",
       "      <th></th>\n",
       "      <th>date</th>\n",
       "      <th>value</th>\n",
       "      <th>year</th>\n",
       "      <th>month</th>\n",
       "    </tr>\n",
       "  </thead>\n",
       "  <tbody>\n",
       "    <tr>\n",
       "      <th>0</th>\n",
       "      <td>1949-01-01</td>\n",
       "      <td>112</td>\n",
       "      <td>1949</td>\n",
       "      <td>Jan</td>\n",
       "    </tr>\n",
       "    <tr>\n",
       "      <th>1</th>\n",
       "      <td>1949-02-01</td>\n",
       "      <td>118</td>\n",
       "      <td>1949</td>\n",
       "      <td>Feb</td>\n",
       "    </tr>\n",
       "    <tr>\n",
       "      <th>2</th>\n",
       "      <td>1949-03-01</td>\n",
       "      <td>132</td>\n",
       "      <td>1949</td>\n",
       "      <td>Mar</td>\n",
       "    </tr>\n",
       "    <tr>\n",
       "      <th>3</th>\n",
       "      <td>1949-04-01</td>\n",
       "      <td>129</td>\n",
       "      <td>1949</td>\n",
       "      <td>Apr</td>\n",
       "    </tr>\n",
       "    <tr>\n",
       "      <th>4</th>\n",
       "      <td>1949-05-01</td>\n",
       "      <td>121</td>\n",
       "      <td>1949</td>\n",
       "      <td>May</td>\n",
       "    </tr>\n",
       "    <tr>\n",
       "      <th>...</th>\n",
       "      <td>...</td>\n",
       "      <td>...</td>\n",
       "      <td>...</td>\n",
       "      <td>...</td>\n",
       "    </tr>\n",
       "    <tr>\n",
       "      <th>139</th>\n",
       "      <td>1960-08-01</td>\n",
       "      <td>606</td>\n",
       "      <td>1960</td>\n",
       "      <td>Aug</td>\n",
       "    </tr>\n",
       "    <tr>\n",
       "      <th>140</th>\n",
       "      <td>1960-09-01</td>\n",
       "      <td>508</td>\n",
       "      <td>1960</td>\n",
       "      <td>Sep</td>\n",
       "    </tr>\n",
       "    <tr>\n",
       "      <th>141</th>\n",
       "      <td>1960-10-01</td>\n",
       "      <td>461</td>\n",
       "      <td>1960</td>\n",
       "      <td>Oct</td>\n",
       "    </tr>\n",
       "    <tr>\n",
       "      <th>142</th>\n",
       "      <td>1960-11-01</td>\n",
       "      <td>390</td>\n",
       "      <td>1960</td>\n",
       "      <td>Nov</td>\n",
       "    </tr>\n",
       "    <tr>\n",
       "      <th>143</th>\n",
       "      <td>1960-12-01</td>\n",
       "      <td>432</td>\n",
       "      <td>1960</td>\n",
       "      <td>Dec</td>\n",
       "    </tr>\n",
       "  </tbody>\n",
       "</table>\n",
       "<p>144 rows × 4 columns</p>\n",
       "</div>"
      ],
      "text/plain": [
       "           date  value  year month\n",
       "0    1949-01-01    112  1949   Jan\n",
       "1    1949-02-01    118  1949   Feb\n",
       "2    1949-03-01    132  1949   Mar\n",
       "3    1949-04-01    129  1949   Apr\n",
       "4    1949-05-01    121  1949   May\n",
       "..          ...    ...   ...   ...\n",
       "139  1960-08-01    606  1960   Aug\n",
       "140  1960-09-01    508  1960   Sep\n",
       "141  1960-10-01    461  1960   Oct\n",
       "142  1960-11-01    390  1960   Nov\n",
       "143  1960-12-01    432  1960   Dec\n",
       "\n",
       "[144 rows x 4 columns]"
      ]
     },
     "execution_count": 4,
     "metadata": {},
     "output_type": "execute_result"
    }
   ],
   "source": [
    "df"
   ]
  },
  {
   "cell_type": "code",
   "execution_count": 3,
   "metadata": {
    "ExecuteTime": {
     "end_time": "2020-05-18T19:13:30.751871Z",
     "start_time": "2020-05-18T19:13:28.564725Z"
    }
   },
   "outputs": [
    {
     "ename": "ValueError",
     "evalue": "Unrecognized character t in format string",
     "output_type": "error",
     "traceback": [
      "\u001b[1;31m---------------------------------------------------------------------------\u001b[0m",
      "\u001b[1;31mValueError\u001b[0m                                Traceback (most recent call last)",
      "\u001b[1;32m<ipython-input-3-d3cb0769f42f>\u001b[0m in \u001b[0;36m<module>\u001b[1;34m\u001b[0m\n\u001b[0;32m     14\u001b[0m \u001b[1;33m\u001b[0m\u001b[0m\n\u001b[0;32m     15\u001b[0m \u001b[1;32mfor\u001b[0m \u001b[0mi\u001b[0m\u001b[1;33m,\u001b[0m \u001b[0my\u001b[0m \u001b[1;32min\u001b[0m \u001b[0menumerate\u001b[0m\u001b[1;33m(\u001b[0m\u001b[0myears\u001b[0m\u001b[1;33m)\u001b[0m\u001b[1;33m:\u001b[0m\u001b[1;33m\u001b[0m\u001b[1;33m\u001b[0m\u001b[0m\n\u001b[1;32m---> 16\u001b[1;33m     \u001b[0mplt\u001b[0m\u001b[1;33m.\u001b[0m\u001b[0mplot\u001b[0m\u001b[1;33m(\u001b[0m\u001b[1;34m'month'\u001b[0m\u001b[1;33m,\u001b[0m \u001b[1;34m'traffic'\u001b[0m\u001b[1;33m,\u001b[0m \u001b[0mdata\u001b[0m\u001b[1;33m=\u001b[0m\u001b[0mdf\u001b[0m\u001b[1;33m.\u001b[0m\u001b[0mloc\u001b[0m\u001b[1;33m[\u001b[0m\u001b[0mdf\u001b[0m\u001b[1;33m.\u001b[0m\u001b[0myear\u001b[0m\u001b[1;33m==\u001b[0m\u001b[0my\u001b[0m\u001b[1;33m,\u001b[0m \u001b[1;33m:\u001b[0m\u001b[1;33m]\u001b[0m\u001b[1;33m,\u001b[0m \u001b[0mcolor\u001b[0m\u001b[1;33m=\u001b[0m\u001b[0mmycolors\u001b[0m\u001b[1;33m[\u001b[0m\u001b[0mi\u001b[0m\u001b[1;33m]\u001b[0m\u001b[1;33m,\u001b[0m \u001b[0mlabel\u001b[0m\u001b[1;33m=\u001b[0m\u001b[0my\u001b[0m\u001b[1;33m)\u001b[0m\u001b[1;33m\u001b[0m\u001b[1;33m\u001b[0m\u001b[0m\n\u001b[0m\u001b[0;32m     17\u001b[0m     \u001b[0mplt\u001b[0m\u001b[1;33m.\u001b[0m\u001b[0mtext\u001b[0m\u001b[1;33m(\u001b[0m\u001b[0mdf\u001b[0m\u001b[1;33m.\u001b[0m\u001b[0mloc\u001b[0m\u001b[1;33m[\u001b[0m\u001b[0mdf\u001b[0m\u001b[1;33m.\u001b[0m\u001b[0myear\u001b[0m\u001b[1;33m==\u001b[0m\u001b[0my\u001b[0m\u001b[1;33m,\u001b[0m \u001b[1;33m:\u001b[0m\u001b[1;33m]\u001b[0m\u001b[1;33m.\u001b[0m\u001b[0mshape\u001b[0m\u001b[1;33m[\u001b[0m\u001b[1;36m0\u001b[0m\u001b[1;33m]\u001b[0m\u001b[1;33m-\u001b[0m\u001b[1;36m.9\u001b[0m\u001b[1;33m,\u001b[0m \u001b[0mdf\u001b[0m\u001b[1;33m.\u001b[0m\u001b[0mloc\u001b[0m\u001b[1;33m[\u001b[0m\u001b[0mdf\u001b[0m\u001b[1;33m.\u001b[0m\u001b[0myear\u001b[0m\u001b[1;33m==\u001b[0m\u001b[0my\u001b[0m\u001b[1;33m,\u001b[0m \u001b[1;34m'traffic'\u001b[0m\u001b[1;33m]\u001b[0m\u001b[1;33m[\u001b[0m\u001b[1;33m-\u001b[0m\u001b[1;36m1\u001b[0m\u001b[1;33m:\u001b[0m\u001b[1;33m]\u001b[0m\u001b[1;33m.\u001b[0m\u001b[0mvalues\u001b[0m\u001b[1;33m[\u001b[0m\u001b[1;36m0\u001b[0m\u001b[1;33m]\u001b[0m\u001b[1;33m,\u001b[0m \u001b[0my\u001b[0m\u001b[1;33m,\u001b[0m \u001b[0mfontsize\u001b[0m\u001b[1;33m=\u001b[0m\u001b[1;36m12\u001b[0m\u001b[1;33m,\u001b[0m \u001b[0mcolor\u001b[0m\u001b[1;33m=\u001b[0m\u001b[0mmycolors\u001b[0m\u001b[1;33m[\u001b[0m\u001b[0mi\u001b[0m\u001b[1;33m]\u001b[0m\u001b[1;33m)\u001b[0m\u001b[1;33m\u001b[0m\u001b[1;33m\u001b[0m\u001b[0m\n\u001b[0;32m     18\u001b[0m \u001b[1;33m\u001b[0m\u001b[0m\n",
      "\u001b[1;32mc:\\users\\wxsst\\appdata\\local\\programs\\python\\python38-32\\lib\\site-packages\\matplotlib\\pyplot.py\u001b[0m in \u001b[0;36mplot\u001b[1;34m(scalex, scaley, data, *args, **kwargs)\u001b[0m\n\u001b[0;32m   2792\u001b[0m \u001b[1;33m@\u001b[0m\u001b[0mdocstring\u001b[0m\u001b[1;33m.\u001b[0m\u001b[0mcopy\u001b[0m\u001b[1;33m(\u001b[0m\u001b[0mAxes\u001b[0m\u001b[1;33m.\u001b[0m\u001b[0mplot\u001b[0m\u001b[1;33m)\u001b[0m\u001b[1;33m\u001b[0m\u001b[1;33m\u001b[0m\u001b[0m\n\u001b[0;32m   2793\u001b[0m \u001b[1;32mdef\u001b[0m \u001b[0mplot\u001b[0m\u001b[1;33m(\u001b[0m\u001b[1;33m*\u001b[0m\u001b[0margs\u001b[0m\u001b[1;33m,\u001b[0m \u001b[0mscalex\u001b[0m\u001b[1;33m=\u001b[0m\u001b[1;32mTrue\u001b[0m\u001b[1;33m,\u001b[0m \u001b[0mscaley\u001b[0m\u001b[1;33m=\u001b[0m\u001b[1;32mTrue\u001b[0m\u001b[1;33m,\u001b[0m \u001b[0mdata\u001b[0m\u001b[1;33m=\u001b[0m\u001b[1;32mNone\u001b[0m\u001b[1;33m,\u001b[0m \u001b[1;33m**\u001b[0m\u001b[0mkwargs\u001b[0m\u001b[1;33m)\u001b[0m\u001b[1;33m:\u001b[0m\u001b[1;33m\u001b[0m\u001b[1;33m\u001b[0m\u001b[0m\n\u001b[1;32m-> 2794\u001b[1;33m     return gca().plot(\n\u001b[0m\u001b[0;32m   2795\u001b[0m         *args, scalex=scalex, scaley=scaley, **({\"data\": data} if data\n\u001b[0;32m   2796\u001b[0m         is not None else {}), **kwargs)\n",
      "\u001b[1;32mc:\\users\\wxsst\\appdata\\local\\programs\\python\\python38-32\\lib\\site-packages\\matplotlib\\axes\\_axes.py\u001b[0m in \u001b[0;36mplot\u001b[1;34m(self, scalex, scaley, data, *args, **kwargs)\u001b[0m\n\u001b[0;32m   1663\u001b[0m         \"\"\"\n\u001b[0;32m   1664\u001b[0m         \u001b[0mkwargs\u001b[0m \u001b[1;33m=\u001b[0m \u001b[0mcbook\u001b[0m\u001b[1;33m.\u001b[0m\u001b[0mnormalize_kwargs\u001b[0m\u001b[1;33m(\u001b[0m\u001b[0mkwargs\u001b[0m\u001b[1;33m,\u001b[0m \u001b[0mmlines\u001b[0m\u001b[1;33m.\u001b[0m\u001b[0mLine2D\u001b[0m\u001b[1;33m.\u001b[0m\u001b[0m_alias_map\u001b[0m\u001b[1;33m)\u001b[0m\u001b[1;33m\u001b[0m\u001b[1;33m\u001b[0m\u001b[0m\n\u001b[1;32m-> 1665\u001b[1;33m         \u001b[0mlines\u001b[0m \u001b[1;33m=\u001b[0m \u001b[1;33m[\u001b[0m\u001b[1;33m*\u001b[0m\u001b[0mself\u001b[0m\u001b[1;33m.\u001b[0m\u001b[0m_get_lines\u001b[0m\u001b[1;33m(\u001b[0m\u001b[1;33m*\u001b[0m\u001b[0margs\u001b[0m\u001b[1;33m,\u001b[0m \u001b[0mdata\u001b[0m\u001b[1;33m=\u001b[0m\u001b[0mdata\u001b[0m\u001b[1;33m,\u001b[0m \u001b[1;33m**\u001b[0m\u001b[0mkwargs\u001b[0m\u001b[1;33m)\u001b[0m\u001b[1;33m]\u001b[0m\u001b[1;33m\u001b[0m\u001b[1;33m\u001b[0m\u001b[0m\n\u001b[0m\u001b[0;32m   1666\u001b[0m         \u001b[1;32mfor\u001b[0m \u001b[0mline\u001b[0m \u001b[1;32min\u001b[0m \u001b[0mlines\u001b[0m\u001b[1;33m:\u001b[0m\u001b[1;33m\u001b[0m\u001b[1;33m\u001b[0m\u001b[0m\n\u001b[0;32m   1667\u001b[0m             \u001b[0mself\u001b[0m\u001b[1;33m.\u001b[0m\u001b[0madd_line\u001b[0m\u001b[1;33m(\u001b[0m\u001b[0mline\u001b[0m\u001b[1;33m)\u001b[0m\u001b[1;33m\u001b[0m\u001b[1;33m\u001b[0m\u001b[0m\n",
      "\u001b[1;32mc:\\users\\wxsst\\appdata\\local\\programs\\python\\python38-32\\lib\\site-packages\\matplotlib\\axes\\_base.py\u001b[0m in \u001b[0;36m__call__\u001b[1;34m(self, *args, **kwargs)\u001b[0m\n\u001b[0;32m    223\u001b[0m                 \u001b[0mthis\u001b[0m \u001b[1;33m+=\u001b[0m \u001b[0margs\u001b[0m\u001b[1;33m[\u001b[0m\u001b[1;36m0\u001b[0m\u001b[1;33m]\u001b[0m\u001b[1;33m,\u001b[0m\u001b[1;33m\u001b[0m\u001b[1;33m\u001b[0m\u001b[0m\n\u001b[0;32m    224\u001b[0m                 \u001b[0margs\u001b[0m \u001b[1;33m=\u001b[0m \u001b[0margs\u001b[0m\u001b[1;33m[\u001b[0m\u001b[1;36m1\u001b[0m\u001b[1;33m:\u001b[0m\u001b[1;33m]\u001b[0m\u001b[1;33m\u001b[0m\u001b[1;33m\u001b[0m\u001b[0m\n\u001b[1;32m--> 225\u001b[1;33m             \u001b[1;32myield\u001b[0m \u001b[1;32mfrom\u001b[0m \u001b[0mself\u001b[0m\u001b[1;33m.\u001b[0m\u001b[0m_plot_args\u001b[0m\u001b[1;33m(\u001b[0m\u001b[0mthis\u001b[0m\u001b[1;33m,\u001b[0m \u001b[0mkwargs\u001b[0m\u001b[1;33m)\u001b[0m\u001b[1;33m\u001b[0m\u001b[1;33m\u001b[0m\u001b[0m\n\u001b[0m\u001b[0;32m    226\u001b[0m \u001b[1;33m\u001b[0m\u001b[0m\n\u001b[0;32m    227\u001b[0m     \u001b[1;32mdef\u001b[0m \u001b[0mget_next_color\u001b[0m\u001b[1;33m(\u001b[0m\u001b[0mself\u001b[0m\u001b[1;33m)\u001b[0m\u001b[1;33m:\u001b[0m\u001b[1;33m\u001b[0m\u001b[1;33m\u001b[0m\u001b[0m\n",
      "\u001b[1;32mc:\\users\\wxsst\\appdata\\local\\programs\\python\\python38-32\\lib\\site-packages\\matplotlib\\axes\\_base.py\u001b[0m in \u001b[0;36m_plot_args\u001b[1;34m(self, tup, kwargs)\u001b[0m\n\u001b[0;32m    364\u001b[0m         \u001b[0mret\u001b[0m \u001b[1;33m=\u001b[0m \u001b[1;33m[\u001b[0m\u001b[1;33m]\u001b[0m\u001b[1;33m\u001b[0m\u001b[1;33m\u001b[0m\u001b[0m\n\u001b[0;32m    365\u001b[0m         \u001b[1;32mif\u001b[0m \u001b[0mlen\u001b[0m\u001b[1;33m(\u001b[0m\u001b[0mtup\u001b[0m\u001b[1;33m)\u001b[0m \u001b[1;33m>\u001b[0m \u001b[1;36m1\u001b[0m \u001b[1;32mand\u001b[0m \u001b[0misinstance\u001b[0m\u001b[1;33m(\u001b[0m\u001b[0mtup\u001b[0m\u001b[1;33m[\u001b[0m\u001b[1;33m-\u001b[0m\u001b[1;36m1\u001b[0m\u001b[1;33m]\u001b[0m\u001b[1;33m,\u001b[0m \u001b[0mstr\u001b[0m\u001b[1;33m)\u001b[0m\u001b[1;33m:\u001b[0m\u001b[1;33m\u001b[0m\u001b[1;33m\u001b[0m\u001b[0m\n\u001b[1;32m--> 366\u001b[1;33m             \u001b[0mlinestyle\u001b[0m\u001b[1;33m,\u001b[0m \u001b[0mmarker\u001b[0m\u001b[1;33m,\u001b[0m \u001b[0mcolor\u001b[0m \u001b[1;33m=\u001b[0m \u001b[0m_process_plot_format\u001b[0m\u001b[1;33m(\u001b[0m\u001b[0mtup\u001b[0m\u001b[1;33m[\u001b[0m\u001b[1;33m-\u001b[0m\u001b[1;36m1\u001b[0m\u001b[1;33m]\u001b[0m\u001b[1;33m)\u001b[0m\u001b[1;33m\u001b[0m\u001b[1;33m\u001b[0m\u001b[0m\n\u001b[0m\u001b[0;32m    367\u001b[0m             \u001b[0mtup\u001b[0m \u001b[1;33m=\u001b[0m \u001b[0mtup\u001b[0m\u001b[1;33m[\u001b[0m\u001b[1;33m:\u001b[0m\u001b[1;33m-\u001b[0m\u001b[1;36m1\u001b[0m\u001b[1;33m]\u001b[0m\u001b[1;33m\u001b[0m\u001b[1;33m\u001b[0m\u001b[0m\n\u001b[0;32m    368\u001b[0m         \u001b[1;32melif\u001b[0m \u001b[0mlen\u001b[0m\u001b[1;33m(\u001b[0m\u001b[0mtup\u001b[0m\u001b[1;33m)\u001b[0m \u001b[1;33m==\u001b[0m \u001b[1;36m3\u001b[0m\u001b[1;33m:\u001b[0m\u001b[1;33m\u001b[0m\u001b[1;33m\u001b[0m\u001b[0m\n",
      "\u001b[1;32mc:\\users\\wxsst\\appdata\\local\\programs\\python\\python38-32\\lib\\site-packages\\matplotlib\\axes\\_base.py\u001b[0m in \u001b[0;36m_process_plot_format\u001b[1;34m(fmt)\u001b[0m\n\u001b[0;32m    103\u001b[0m             \u001b[0mi\u001b[0m \u001b[1;33m+=\u001b[0m \u001b[1;36m2\u001b[0m\u001b[1;33m\u001b[0m\u001b[1;33m\u001b[0m\u001b[0m\n\u001b[0;32m    104\u001b[0m         \u001b[1;32melse\u001b[0m\u001b[1;33m:\u001b[0m\u001b[1;33m\u001b[0m\u001b[1;33m\u001b[0m\u001b[0m\n\u001b[1;32m--> 105\u001b[1;33m             raise ValueError(\n\u001b[0m\u001b[0;32m    106\u001b[0m                 'Unrecognized character %c in format string' % c)\n\u001b[0;32m    107\u001b[0m \u001b[1;33m\u001b[0m\u001b[0m\n",
      "\u001b[1;31mValueError\u001b[0m: Unrecognized character t in format string"
     ]
    },
    {
     "data": {
      "image/png": "[encoded data removed]",
      "text/plain": [
       "<Figure size 1280x800 with 1 Axes>"
      ]
     },
     "metadata": {
      "needs_background": "light"
     },
     "output_type": "display_data"
    }
   ],
   "source": [
    "from dateutil.parser import parse \n",
    "\n",
    "# Import Data\n",
    "df = pd.read_csv('https://github.com/selva86/datasets/raw/master/AirPassengers.csv')\n",
    "\n",
    "# Prepare data\n",
    "df['year'] = [parse(d).year for d in df.date]\n",
    "df['month'] = [parse(d).strftime('%b') for d in df.date]\n",
    "years = df['year'].unique()\n",
    "\n",
    "# Draw Plot\n",
    "mycolors = ['tab:red', 'tab:blue', 'tab:green', 'tab:orange', 'tab:brown', 'tab:grey', 'tab:pink', 'tab:olive', 'deeppink', 'steelblue', 'firebrick', 'mediumseagreen']      \n",
    "plt.figure(figsize=(16,10), dpi= 80)\n",
    "\n",
    "for i, y in enumerate(years):\n",
    "    plt.plot('month', 'value', data=df.loc[df.year==y, :], color=mycolors[i], label=y)\n",
    "    plt.text(df.loc[df.year==y, :].shape[0]-.9, df.loc[df.year==y, 'traffic'][-1:].values[0], y, fontsize=12, color=mycolors[i])\n",
    "\n",
    "# Decoration\n",
    "plt.ylim(50,750)\n",
    "plt.xlim(-0.3, 11)\n",
    "plt.ylabel('$Air Traffic$')\n",
    "plt.yticks(fontsize=12, alpha=.7)\n",
    "plt.title(\"Monthly Seasonal Plot: Air Passengers Traffic (1949 - 1969)\", fontsize=22)\n",
    "plt.grid(axis='y', alpha=.3)\n",
    "\n",
    "# Remove borders\n",
    "plt.gca().spines[\"top\"].set_alpha(0.0)    \n",
    "plt.gca().spines[\"bottom\"].set_alpha(0.5)\n",
    "plt.gca().spines[\"right\"].set_alpha(0.0)    \n",
    "plt.gca().spines[\"left\"].set_alpha(0.5)   \n",
    "# plt.legend(loc='upper right', ncol=2, fontsize=12)\n",
    "plt.show()"
   ]
  },
  {
   "cell_type": "markdown",
   "metadata": {},
   "source": [
    "# Groups\n",
    "## Dendrogram"
   ]
  },
  {
   "cell_type": "markdown",
   "metadata": {},
   "source": [
    "## Cluster Plot"
   ]
  },
  {
   "cell_type": "markdown",
   "metadata": {},
   "source": [
    "## Andrews Curve"
   ]
  },
  {
   "cell_type": "markdown",
   "metadata": {},
   "source": [
    "## Parallel Coordinates"
   ]
  },
  {
   "cell_type": "code",
   "execution_count": null,
   "metadata": {},
   "outputs": [],
   "source": []
  }
 ],
 "metadata": {
  "kernelspec": {
   "display_name": "Python 3",
   "language": "python",
   "name": "python3"
  },
  "language_info": {
   "codemirror_mode": {
    "name": "ipython",
    "version": 3
   },
   "file_extension": ".py",
   "mimetype": "text/x-python",
   "name": "python",
   "nbconvert_exporter": "python",
   "pygments_lexer": "ipython3",
   "version": "3.8.1"
  },
  "toc": {
   "base_numbering": 1,
   "nav_menu": {},
   "number_sections": true,
   "sideBar": true,
   "skip_h1_title": false,
   "title_cell": "Table of Contents",
   "title_sidebar": "Contents",
   "toc_cell": false,
   "toc_position": {
    "height": "calc(100% - 180px)",
    "left": "10px",
    "top": "150px",
    "width": "273.188px"
   },
   "toc_section_display": true,
   "toc_window_display": false
  },
  "varInspector": {
   "cols": {
    "lenName": 16,
    "lenType": 16,
    "lenVar": 40
   },
   "kernels_config": {
    "python": {
     "delete_cmd_postfix": "",
     "delete_cmd_prefix": "del ",
     "library": "var_list.py",
     "varRefreshCmd": "print(var_dic_list())"
    },
    "r": {
     "delete_cmd_postfix": ") ",
     "delete_cmd_prefix": "rm(",
     "library": "var_list.r",
     "varRefreshCmd": "cat(var_dic_list()) "
    }
   },
   "types_to_exclude": [
    "module",
    "function",
    "builtin_function_or_method",
    "instance",
    "_Feature"
   ],
   "window_display": false
  }
 },
 "nbformat": 4,
 "nbformat_minor": 4
}
